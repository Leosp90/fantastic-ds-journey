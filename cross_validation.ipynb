{
 "cells": [
  {
   "cell_type": "markdown",
   "id": "e2f34fda-c2e8-449a-8a5a-e43787e16c98",
   "metadata": {},
   "source": [
    "### Simple Version of Validation with GridSearchCV\n",
    "In a simple version of validation using GridSearchCV, you typically perform a train/test split and then use GridSearchCV to find the best hyperparameters based on cross-validation within the training set. Here's how you can implement it:"
   ]
  },
  {
   "cell_type": "code",
   "execution_count": 9,
   "id": "5d0a3b2d-0563-4e67-b1fa-c2c7551bde5f",
   "metadata": {},
   "outputs": [],
   "source": [
    "from sklearn.datasets import load_iris\n",
    "from sklearn.model_selection import train_test_split, GridSearchCV\n",
    "from sklearn.svm import SVC\n",
    "from sklearn.metrics import accuracy_score\n",
    "\n",
    "from sklearn.model_selection import KFold, GridSearchCV, cross_val_score\n",
    "import numpy as np"
   ]
  },
  {
   "cell_type": "code",
   "execution_count": null,
   "id": "0445bdb6-fce8-48a4-8c0b-0a37a8cf452a",
   "metadata": {},
   "outputs": [],
   "source": [
    "# Load the dataset\n",
    "X, y = load_iris(return_X_y=True)"
   ]
  },
  {
   "cell_type": "code",
   "execution_count": null,
   "id": "0db8c4d3-41ed-479e-9243-397f5897e7d1",
   "metadata": {},
   "outputs": [],
   "source": []
  },
  {
   "cell_type": "code",
   "execution_count": null,
   "id": "9df49895-959a-41f1-a8f7-a442d9306805",
   "metadata": {},
   "outputs": [],
   "source": [
    "# Split the dataset into training and testing sets\n",
    "X_train, X_test, y_train, y_test = train_test_split(X, y, test_size=0.25, random_state=42)\n",
    "\n",
    "# Set up the parameter grid for GridSearchCV\n",
    "param_grid = {'C': [0.1, 1, 10], 'gamma': [0.01, 0.1, 1]}\n",
    "\n",
    "# Create a Support Vector Classifier\n",
    "svc = SVC()"
   ]
  },
  {
   "cell_type": "code",
   "execution_count": null,
   "id": "2e5568e2-70e6-4039-b600-68bbeb89e3e7",
   "metadata": {},
   "outputs": [],
   "source": [
    "# Initialize GridSearchCV\n",
    "grid_search = GridSearchCV(estimator=svc, param_grid=param_grid, cv=5)\n",
    "\n",
    "# Fit GridSearchCV\n",
    "grid_search.fit(X_train, y_train)\n",
    "\n",
    "# Get the best model\n",
    "best_model = grid_search.best_estimator_\n",
    "\n",
    "# Evaluate on the test set\n",
    "y_pred = best_model.predict(X_test)\n",
    "accuracy = accuracy_score(y_test, y_pred)\n",
    "\n",
    "print(f'Best parameters: {grid_search.best_params_}')\n",
    "print(f'Test set accuracy: {accuracy:.2f}')"
   ]
  },
  {
   "cell_type": "markdown",
   "id": "52c14051-7bc1-4fd3-8d92-efed0d7d3bd8",
   "metadata": {},
   "source": [
    "### Nested Cross-Validation\n",
    "In nested cross-validation, you perform cross-validation twice: once to tune the hyperparameters (inner loop) and once to estimate the generalization error (outer loop). Here’s how to implement it:"
   ]
  },
  {
   "cell_type": "code",
   "execution_count": 11,
   "id": "2156d4aa-80f8-4046-86b1-9e36d2258437",
   "metadata": {},
   "outputs": [
    {
     "name": "stdout",
     "output_type": "stream",
     "text": [
      "Nested CV accuracy: 0.97 ± 0.02\n"
     ]
    }
   ],
   "source": [
    "# Define the inner and outer cross-validation strategies\n",
    "inner_cv = KFold(n_splits=5, shuffle=True, random_state=42)\n",
    "outer_cv = KFold(n_splits=5, shuffle=True, random_state=42)\n",
    "\n",
    "# Initialize GridSearchCV for the inner loop\n",
    "grid_search = GridSearchCV(estimator=svc, param_grid=param_grid, cv=inner_cv)\n",
    "\n",
    "# Perform nested cross-validation\n",
    "nested_scores = cross_val_score(grid_search, X, y, cv=outer_cv)\n",
    "\n",
    "print(f'Nested CV accuracy: {np.mean(nested_scores):.2f} ± {np.std(nested_scores):.2f}')"
   ]
  },
  {
   "cell_type": "code",
   "execution_count": null,
   "id": "dca8de13-f6f6-431d-880c-299c87451817",
   "metadata": {},
   "outputs": [],
   "source": []
  },
  {
   "cell_type": "code",
   "execution_count": null,
   "id": "ff81c9a4-7e07-40b5-8ed9-2e0d8b041e3b",
   "metadata": {},
   "outputs": [],
   "source": []
  },
  {
   "cell_type": "code",
   "execution_count": null,
   "id": "57c187ca-400f-4ad9-b0fb-dd0062cc7bb5",
   "metadata": {},
   "outputs": [],
   "source": []
  },
  {
   "cell_type": "code",
   "execution_count": null,
   "id": "dc417476-ccfa-4c3a-96d6-eed5c837d81e",
   "metadata": {},
   "outputs": [],
   "source": []
  },
  {
   "cell_type": "code",
   "execution_count": null,
   "id": "3eb003a7-0114-4ce8-be64-68fcc6c260ac",
   "metadata": {},
   "outputs": [],
   "source": []
  }
 ],
 "metadata": {
  "kernelspec": {
   "display_name": "Python 3 (ipykernel)",
   "language": "python",
   "name": "python3"
  },
  "language_info": {
   "codemirror_mode": {
    "name": "ipython",
    "version": 3
   },
   "file_extension": ".py",
   "mimetype": "text/x-python",
   "name": "python",
   "nbconvert_exporter": "python",
   "pygments_lexer": "ipython3",
   "version": "3.12.3"
  }
 },
 "nbformat": 4,
 "nbformat_minor": 5
}
