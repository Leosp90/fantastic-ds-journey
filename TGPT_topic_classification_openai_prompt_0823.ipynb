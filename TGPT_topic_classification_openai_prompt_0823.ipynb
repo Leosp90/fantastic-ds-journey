{
 "cells": [
  {
   "cell_type": "code",
   "execution_count": 31,
   "id": "0f1dbb2c-ef34-45e8-8487-43d400678c06",
   "metadata": {},
   "outputs": [],
   "source": [
    "import pandas as pd\n",
    "import random\n",
    "import numpy as np\n",
    "import openai\n",
    "import csv\n",
    "import json"
   ]
  },
  {
   "cell_type": "code",
   "execution_count": null,
   "id": "ced6a8ac-0db4-46c7-bf9f-6b0be91adf5f",
   "metadata": {},
   "outputs": [],
   "source": [
    "file_path = r\"C:\\\\Users\\\\Liu Shi Peng\\\\Documents\\\\feb_2_aug_topic_classification\\\\chat_messages_202409051704.json\"\n",
    "\n",
    "with open(file_path, \"rb\") as f:\n",
    "    json_file = json.load(f)\n",
    "\n",
    "df = pd.DataFrame(list(json_file.values())[0])"
   ]
  },
  {
   "cell_type": "code",
   "execution_count": 222,
   "id": "4bc64566-6ff6-4a55-8abd-1bb6d119eb8e",
   "metadata": {},
   "outputs": [],
   "source": [
    "df['timestamp'] = pd.to_datetime(df['created_at'], format='%Y-%m-%dT%H:%M:%S.%fZ', utc=True)\n",
    "df['month'] = df['timestamp'].dt.month"
   ]
  },
  {
   "cell_type": "code",
   "execution_count": 224,
   "id": "4aba005a-a7fd-4b9c-b991-7f1921d61fc3",
   "metadata": {},
   "outputs": [
    {
     "data": {
      "text/html": [
       "<div>\n",
       "<style scoped>\n",
       "    .dataframe tbody tr th:only-of-type {\n",
       "        vertical-align: middle;\n",
       "    }\n",
       "\n",
       "    .dataframe tbody tr th {\n",
       "        vertical-align: top;\n",
       "    }\n",
       "\n",
       "    .dataframe thead th {\n",
       "        text-align: right;\n",
       "    }\n",
       "</style>\n",
       "<table border=\"1\" class=\"dataframe\">\n",
       "  <thead>\n",
       "    <tr style=\"text-align: right;\">\n",
       "      <th></th>\n",
       "      <th>message_id</th>\n",
       "      <th>user_query</th>\n",
       "      <th>created_at</th>\n",
       "      <th>timestamp</th>\n",
       "      <th>month</th>\n",
       "    </tr>\n",
       "  </thead>\n",
       "  <tbody>\n",
       "    <tr>\n",
       "      <th>0</th>\n",
       "      <td>15fffc21-5625-4a68-a3a6-4652808e18b0</td>\n",
       "      <td>Give me a trade to make For the last hour of t...</td>\n",
       "      <td>2024-06-14T06:39:36.157Z</td>\n",
       "      <td>2024-06-14 06:39:36.157000+00:00</td>\n",
       "      <td>6</td>\n",
       "    </tr>\n",
       "    <tr>\n",
       "      <th>1</th>\n",
       "      <td>4efcd440-86c2-44ac-8d6f-3e25f23c29e6</td>\n",
       "      <td>Give me 3 good forex trade setups from out of ...</td>\n",
       "      <td>2024-06-14T06:39:45.901Z</td>\n",
       "      <td>2024-06-14 06:39:45.901000+00:00</td>\n",
       "      <td>6</td>\n",
       "    </tr>\n",
       "    <tr>\n",
       "      <th>2</th>\n",
       "      <td>77681cc3-7f84-40a4-87e7-0bd5735e2155</td>\n",
       "      <td>give me an in the money options trade with a s...</td>\n",
       "      <td>2024-06-14T06:39:59.462Z</td>\n",
       "      <td>2024-06-14 06:39:59.462000+00:00</td>\n",
       "      <td>6</td>\n",
       "    </tr>\n",
       "    <tr>\n",
       "      <th>3</th>\n",
       "      <td>7f450bb0-9fca-43dc-bf98-69951a211830</td>\n",
       "      <td>what is the top 3 best call options to buy wit...</td>\n",
       "      <td>2024-06-14T06:40:18.882Z</td>\n",
       "      <td>2024-06-14 06:40:18.882000+00:00</td>\n",
       "      <td>6</td>\n",
       "    </tr>\n",
       "    <tr>\n",
       "      <th>4</th>\n",
       "      <td>81879c99-afec-49ce-9e25-c2ebd8f7edcb</td>\n",
       "      <td>Given the current market conditions... what is...</td>\n",
       "      <td>2024-06-14T06:40:32.365Z</td>\n",
       "      <td>2024-06-14 06:40:32.365000+00:00</td>\n",
       "      <td>6</td>\n",
       "    </tr>\n",
       "  </tbody>\n",
       "</table>\n",
       "</div>"
      ],
      "text/plain": [
       "                             message_id  \\\n",
       "0  15fffc21-5625-4a68-a3a6-4652808e18b0   \n",
       "1  4efcd440-86c2-44ac-8d6f-3e25f23c29e6   \n",
       "2  77681cc3-7f84-40a4-87e7-0bd5735e2155   \n",
       "3  7f450bb0-9fca-43dc-bf98-69951a211830   \n",
       "4  81879c99-afec-49ce-9e25-c2ebd8f7edcb   \n",
       "\n",
       "                                          user_query  \\\n",
       "0  Give me a trade to make For the last hour of t...   \n",
       "1  Give me 3 good forex trade setups from out of ...   \n",
       "2  give me an in the money options trade with a s...   \n",
       "3  what is the top 3 best call options to buy wit...   \n",
       "4  Given the current market conditions... what is...   \n",
       "\n",
       "                 created_at                        timestamp  month  \n",
       "0  2024-06-14T06:39:36.157Z 2024-06-14 06:39:36.157000+00:00      6  \n",
       "1  2024-06-14T06:39:45.901Z 2024-06-14 06:39:45.901000+00:00      6  \n",
       "2  2024-06-14T06:39:59.462Z 2024-06-14 06:39:59.462000+00:00      6  \n",
       "3  2024-06-14T06:40:18.882Z 2024-06-14 06:40:18.882000+00:00      6  \n",
       "4  2024-06-14T06:40:32.365Z 2024-06-14 06:40:32.365000+00:00      6  "
      ]
     },
     "execution_count": 224,
     "metadata": {},
     "output_type": "execute_result"
    }
   ],
   "source": [
    "df.head()"
   ]
  },
  {
   "cell_type": "code",
   "execution_count": 299,
   "id": "8600276a-f8d4-4d4f-962e-92be7f9f8eb3",
   "metadata": {},
   "outputs": [],
   "source": [
    "docs_jun_jul = df[(df['month'] == 5) | (df['month'] == 6)]['user_query'].tolist()"
   ]
  },
  {
   "cell_type": "code",
   "execution_count": 301,
   "id": "469569ff-a2ce-414f-9547-824b4ad88053",
   "metadata": {},
   "outputs": [
    {
     "data": {
      "text/plain": [
       "115540"
      ]
     },
     "execution_count": 301,
     "metadata": {},
     "output_type": "execute_result"
    }
   ],
   "source": [
    "len(docs_jun_jul)"
   ]
  },
  {
   "cell_type": "code",
   "execution_count": 303,
   "id": "6a8db4b4-824f-447a-8ce0-5291045c1188",
   "metadata": {},
   "outputs": [
    {
     "data": {
      "text/plain": [
       "115540"
      ]
     },
     "execution_count": 303,
     "metadata": {},
     "output_type": "execute_result"
    }
   ],
   "source": [
    "new_docs = docs_jun_jul[:300000]\n",
    "len(new_docs)"
   ]
  },
  {
   "cell_type": "markdown",
   "id": "8ac547a5-7fa4-48db-a0d8-6266f345026d",
   "metadata": {},
   "source": [
    "# New messages classification - prompt engineering"
   ]
  },
  {
   "cell_type": "markdown",
   "id": "43843643-96ff-46cd-93a3-0dc43ceecc21",
   "metadata": {},
   "source": [
    "#### --async processing"
   ]
  },
  {
   "cell_type": "code",
   "execution_count": 269,
   "id": "d9f076b8-dae8-41f8-914f-43864bdce42b",
   "metadata": {},
   "outputs": [],
   "source": [
    "from openai import AsyncOpenAI\n",
    "import asyncio\n",
    "from tqdm.asyncio import tqdm\n",
    "MAX_CONCURRENCY = 32"
   ]
  },
  {
   "cell_type": "code",
   "execution_count": 271,
   "id": "40842842-f111-41e8-bcbf-2ddd813f7eb9",
   "metadata": {},
   "outputs": [],
   "source": [
    "semaphore = asyncio.Semaphore(MAX_CONCURRENCY)\n",
    "model = \"gpt-4o-mini\" \n",
    "api_key=\"sk-proj-...z\"\n",
    "async_client = AsyncOpenAI(\n",
    "    api_key=api_key,\n",
    ")\n"
   ]
  },
  {
   "cell_type": "code",
   "execution_count": 273,
   "id": "04d5ba52-123a-489e-8a36-5bf580af7e9b",
   "metadata": {},
   "outputs": [],
   "source": [
    "topics = [\n",
    "    \"Options Trading Strategies\",\n",
    "    \"Stock Market Analysis\",\n",
    "    \"Industry & Sector Trend\",\n",
    "    \"Trading Terminology & Tools\",\n",
    "    \"Technical Indicators & Analysis\",\n",
    "    \"Non-Financial/Unrelated Topics\",\n",
    "    \"Market Sentiment & Trends\",\n",
    "    \"Earnings & Financial Reports\",\n",
    "    \"Cryptocurrency\",\n",
    "    \"Forex\"\n",
    "]\n",
    "\n",
    "topics_guidelines = {\n",
    "    \"Options Trading Strategies\": \"Messages about strategies, tips, or questions related to trading options.\",\n",
    "    \"Stock Market Analysis\": \"Messages that inquire about stock price, discuss stock market, stock price movements, market predictions, or stock performance.\",\n",
    "    \"Industry & Sector Trend\": \"Messages discussing trends or changes within specific industries or market sectors.\",\n",
    "    \"Trading Terminology & Tools\": \"Messages asking about or discussing trading terminology, algo trading, codes, tools, or platforms.\",\n",
    "    \"Technical Indicators & Analysis\": \"Messages focused on technical analysis, including indicators, charts, and support/resistance levels etc.\",\n",
    "    \"Non-Financial/Unrelated Topics\": \"Messages that do not relate to financial topics at all.\",\n",
    "    \"Market Sentiment & Trends\": \"Messages discussing general market sentiment, investor moods, or broad market trends.\",\n",
    "    \"Earnings & Financial Reports\": \"Messages related to earnings reports, financial statements, or company financial data.\",\n",
    "    \"Cryptocurrency\": \"Messages about cryptocurrency, including Bitcoin, Ethereum, and other digital currencies.\",\n",
    "    \"Forex\": \"Messages about foreign exchange markets, currency pairs, or forex trading.\"\n",
    "}\n",
    "\n",
    "### define the prompt\n",
    "prompt = f\"\"\"\\\n",
    "You are an expert in financial and trading topics. You will be given a list of 10 predefined topics:\n",
    "Here are the topic list:\n",
    "{','.join(topics)}\n",
    "\n",
    "Your task is to assign the message to the most representative topic from the topic list given above. \n",
    "\n",
    "**Instructions:**\n",
    "- Your response **must be exactly one of the predefined topics** without any additional text, punctuation, or special characters;\n",
    "- If a message is ambiguous or lacks detail, infer the most likely topic based on common financial and trading contexts.\n",
    "- **Only return \"Non-Financial/Unrelated Topics\" if the message is clearly irrelevant or does not pertain to financial, trading, or market-related subjects at all**.\n",
    "- do not provide any other content, explanations, or answers to message, nor to repeat the message;\n",
    "- **Strictly limit your response to the topic name only**, ensuring it is no longer than 10 words;\n",
    "\n",
    "\n",
    "Here are some examples to guide you:\n",
    "\n",
    "1. **Message**: New tools for automated trading and their advantages\n",
    "   **Response**: Trading Terminology & Tools\n",
    "\n",
    "2. **Message**: The latest financial report from a major company.\n",
    "   **Response**: Earnings & Financial Reports\n",
    "\n",
    "3. **Message**: What stock should I buy tomorrow under $5\n",
    "   **Response**: Stock Market Analysis\n",
    "   \n",
    "4. **Message**: ?\n",
    "   **Response**: Non-Financial/Unrelated Topics\n",
    "   \n",
    "5. **Message**: spy\n",
    "   **Response**: Stock Market Analysis\n",
    "\n",
    "5. **Message**: when is the cpi data\n",
    "   **Response**: Market Sentiment & Trends\n",
    "   \n",
    "\"\"\"\n",
    "prompt +=  '**Messages**: \"{message}\" Response:'\n",
    "\n",
    "#- consider the **dominant topic** of the message, even if multiple topics seem relevant, choose the most specific and direct match;\n",
    "\n",
    "\n",
    "# For each message, consider the following guidelines:\n",
    "# {'\\n'.join([f\"{topic}: {guideline}\" for topic, guideline in topics_guidelines.items()])}"
   ]
  },
  {
   "cell_type": "code",
   "execution_count": 275,
   "id": "f6e63b54-b6a7-4e93-87dc-4d42dd8cb46f",
   "metadata": {},
   "outputs": [],
   "source": [
    "async def process_review(text):\n",
    "    async with semaphore:\n",
    "        try:\n",
    "            input = [{\"role\": \"user\", \"content\": prompt.format(message=text)}]\n",
    "            \n",
    "            res = await async_client.chat.completions.create(\n",
    "                model=model,\n",
    "                messages=input,\n",
    "            )\n",
    "            result = res.choices[0].message.content\n",
    "\n",
    "            if result not in set(topics):\n",
    "                result = \"Non-Financial/Unrelated Topics\"\n",
    "            return result\n",
    "        \n",
    "        except Exception as e:\n",
    "            print(f\"Error: {e}. Failed {text}\")\n",
    "            return \"\""
   ]
  },
  {
   "cell_type": "code",
   "execution_count": 277,
   "id": "f3e7cd09-c9fe-4886-b895-625a3f62b043",
   "metadata": {},
   "outputs": [],
   "source": [
    "async def main(docs):\n",
    "    tasks = []\n",
    "    for i, text in enumerate(docs):  # Use enumerate to get both index and text\n",
    "        tasks.append((i, process_review(text)))  # Store index and task together\n",
    "\n",
    "    # Use list comprehension to gather results and maintain index association\n",
    "    res = await tqdm.gather(*(task[1] for task in tasks))\n",
    "\n",
    "    final_output = [res[i] for i in range(len(res))]\n",
    "    return final_output\n",
    "# asyncio.run(main())"
   ]
  },
  {
   "cell_type": "code",
   "execution_count": 279,
   "id": "fb9e5090-9a1c-48f5-b76c-2bc5d189ccdd",
   "metadata": {},
   "outputs": [],
   "source": [
    "sample_messages = [\n",
    "    'jblu trade',\n",
    "    'sbux',\n",
    "    'What is the CGAR for Cadence for the last year?',\n",
    "    'What is the highest yielding index fund ',\n",
    "    'what is the lowest price of jakk in the past year',\n",
    "    'Can you make it 10 stocks',\n",
    "    'can you find me a different stock',\n",
    "    'analyse sndx',\n",
    "    'Is ctxr still trading? Did tenk merge with them? Is ctor trading?'\n",
    "    'mu short term target price',\n",
    "    'Assuming 8% annual growth and an investment of $100 per month, how long would it take to reach one million dollars?',\n",
    "    'What if the growth rate was 12%',\n",
    "    '30 day dividen payout ',\n",
    "    'Give me stocks which will ultimately make me 1k plus per day in total ',\n",
    "    'Show a chart of Lockheed',\n",
    "    'Analyze DHT',\n",
    "    'when is the cpi data',\n",
    "    'What stock should I buy tomorrow under $5',\n",
    "    'Can you help me find stock for day trading',\n",
    "    'How long should I hold adma',\n",
    "    'What are the rules every trader should follow to become profitable ',\n",
    "    'I need a potiential 500% return today ',\n",
    "    'if i pull out of SOL at 145 as suggested what should be my next 30 minute trade?'\n",
    "]"
   ]
  },
  {
   "cell_type": "code",
   "execution_count": 281,
   "id": "fd7dcc72-f6e5-4007-b318-ddd4783ab989",
   "metadata": {},
   "outputs": [
    {
     "name": "stderr",
     "output_type": "stream",
     "text": [
      "100%|██████████| 22/22 [00:00<00:00, 25.31it/s]\n"
     ]
    },
    {
     "data": {
      "text/plain": [
       "['Stock Market Analysis',\n",
       " 'Stock Market Analysis',\n",
       " 'Earnings & Financial Reports',\n",
       " 'Stock Market Analysis',\n",
       " 'Stock Market Analysis',\n",
       " 'Stock Market Analysis',\n",
       " 'Stock Market Analysis',\n",
       " 'Stock Market Analysis',\n",
       " 'Stock Market Analysis',\n",
       " 'Non-Financial/Unrelated Topics',\n",
       " 'Market Sentiment & Trends',\n",
       " 'Earnings & Financial Reports',\n",
       " 'Stock Market Analysis',\n",
       " 'Stock Market Analysis',\n",
       " 'Stock Market Analysis',\n",
       " 'Market Sentiment & Trends',\n",
       " 'Stock Market Analysis',\n",
       " 'Stock Market Analysis',\n",
       " 'Stock Market Analysis',\n",
       " 'Trading Terminology & Tools',\n",
       " 'Stock Market Analysis',\n",
       " 'Cryptocurrency']"
      ]
     },
     "execution_count": 281,
     "metadata": {},
     "output_type": "execute_result"
    }
   ],
   "source": [
    "await main(sample_messages)"
   ]
  },
  {
   "cell_type": "code",
   "execution_count": 305,
   "id": "2a8e0e72-35a9-4b2d-ad52-b10d63ee5701",
   "metadata": {},
   "outputs": [
    {
     "name": "stderr",
     "output_type": "stream",
     "text": [
      " 89%|████████▉ | 103369/115540 [34:49<1:52:45,  1.80it/s]"
     ]
    },
    {
     "name": "stdout",
     "output_type": "stream",
     "text": [
      "Error: Request timed out.. Failed With the stop loss order I’ll set at 3.90\n"
     ]
    },
    {
     "name": "stderr",
     "output_type": "stream",
     "text": [
      "100%|██████████| 115540/115540 [45:15<00:00, 42.55it/s]  \n"
     ]
    }
   ],
   "source": [
    "mini_4o_output = await main(new_docs)\n",
    "final_output_array = np.array(mini_4o_output)\n",
    "#np.save(f'C:\\\\Users\\\\Liu Shi Peng\\\\Documents\\\\feb_jul_topic_classification\\\\batch_august.npy', final_output_array)"
   ]
  },
  {
   "cell_type": "code",
   "execution_count": 287,
   "id": "a0668087-b1cb-4fcc-ab91-d47ec7dba165",
   "metadata": {},
   "outputs": [
    {
     "data": {
      "text/plain": [
       "(89326,)"
      ]
     },
     "execution_count": 287,
     "metadata": {},
     "output_type": "execute_result"
    }
   ],
   "source": [
    "final_output_array.shape"
   ]
  },
  {
   "cell_type": "code",
   "execution_count": 289,
   "id": "2da0a156-14f7-4ec5-86b5-bc6d7f203951",
   "metadata": {},
   "outputs": [
    {
     "data": {
      "text/plain": [
       "array(['Cryptocurrency', 'Earnings & Financial Reports', 'Forex',\n",
       "       'Industry & Sector Trend', 'Market Sentiment & Trends',\n",
       "       'Non-Financial/Unrelated Topics', 'Options Trading Strategies',\n",
       "       'Stock Market Analysis', 'Technical Indicators & Analysis',\n",
       "       'Trading Terminology & Tools'], dtype='<U31')"
      ]
     },
     "execution_count": 289,
     "metadata": {},
     "output_type": "execute_result"
    }
   ],
   "source": [
    "np.unique(final_output_array)"
   ]
  },
  {
   "cell_type": "code",
   "execution_count": 291,
   "id": "3172454d-4467-4410-88c1-7ca171c0cc66",
   "metadata": {},
   "outputs": [],
   "source": [
    "mini_4o_df = pd.DataFrame(final_output_array, columns = ['topic'])\n",
    "mini_4o_df['message_id'] =df['message_id']\n",
    "mini_4o_df['user_query'] =df['user_query']\n",
    "mini_4o_df['date'] =df['created_at']\n",
    "mini_4o_df.head()\n",
    "mini_4o_df.to_csv('C:\\\\Users\\\\Liu Shi Peng\\\\Documents\\\\feb_2_aug_topic_classification\\\\topic_4o_mini_jul.csv')"
   ]
  },
  {
   "cell_type": "markdown",
   "id": "b07c9c7c-8806-4b13-ab29-c54125dc890a",
   "metadata": {},
   "source": [
    "#### Topic Analysis from Feb - Aug"
   ]
  },
  {
   "cell_type": "code",
   "execution_count": 120,
   "id": "80fe37cb-712c-47b5-b88e-691bbfb0195a",
   "metadata": {},
   "outputs": [
    {
     "name": "stderr",
     "output_type": "stream",
     "text": [
      "C:\\Users\\Liu Shi Peng\\AppData\\Local\\Temp\\ipykernel_11228\\2241853323.py:2: DtypeWarning: Columns (21) have mixed types. Specify dtype option on import or set low_memory=False.\n",
      "  df2 = pd.read_csv('C:\\\\Users\\\\Liu Shi Peng\\\\Documents\\\\feb_2_aug_topic_classification\\\\db_chat_messages_with_topic_feb_jul.csv')\n"
     ]
    }
   ],
   "source": [
    "df1 = pd.read_csv('C:\\\\Users\\\\Liu Shi Peng\\\\Documents\\\\feb_2_aug_topic_classification\\\\topic_4o_mini_aug.csv')\n",
    "df2 = pd.read_csv('C:\\\\Users\\\\Liu Shi Peng\\\\Documents\\\\feb_2_aug_topic_classification\\\\db_chat_messages_with_topic_feb_jul.csv')"
   ]
  },
  {
   "cell_type": "code",
   "execution_count": null,
   "id": "bcba0c4e-2d65-49ca-a36e-c77630675828",
   "metadata": {},
   "outputs": [],
   "source": [
    "print('df1_shape:', df1.shape)\n",
    "print('df12_shape:', df2.shape)"
   ]
  },
  {
   "cell_type": "code",
   "execution_count": null,
   "id": "149f2fdd-abad-4c0d-8d05-d251ee03e2f7",
   "metadata": {},
   "outputs": [],
   "source": [
    "df2_limited = df2[['message_id', 'user_query_x','topic_y','created_at']].rename(columns =  {'user_query_x': 'query', 'topic_y':'topic'})\n",
    "\n",
    "df1_limited = df1[['message_id', 'user_query','topic','date']].rename(columns =  {'user_query': 'query', 'date':'created_at'})"
   ]
  },
  {
   "cell_type": "code",
   "execution_count": 178,
   "id": "55b1a97b-2773-414f-8a55-a3eb56959a6a",
   "metadata": {},
   "outputs": [
    {
     "data": {
      "text/plain": [
       "(430564, 4)"
      ]
     },
     "execution_count": 178,
     "metadata": {},
     "output_type": "execute_result"
    }
   ],
   "source": [
    "concat_df = pd.concat([df1_limited, df2_limited], axis = 0)\n",
    "concat_df.shape"
   ]
  },
  {
   "cell_type": "code",
   "execution_count": 182,
   "id": "252861dc-388c-43eb-8a50-cc5766590b6e",
   "metadata": {},
   "outputs": [
    {
     "data": {
      "text/html": [
       "<div>\n",
       "<style scoped>\n",
       "    .dataframe tbody tr th:only-of-type {\n",
       "        vertical-align: middle;\n",
       "    }\n",
       "\n",
       "    .dataframe tbody tr th {\n",
       "        vertical-align: top;\n",
       "    }\n",
       "\n",
       "    .dataframe thead th {\n",
       "        text-align: right;\n",
       "    }\n",
       "</style>\n",
       "<table border=\"1\" class=\"dataframe\">\n",
       "  <thead>\n",
       "    <tr style=\"text-align: right;\">\n",
       "      <th></th>\n",
       "      <th>message_id</th>\n",
       "      <th>query</th>\n",
       "      <th>topic</th>\n",
       "      <th>created_at</th>\n",
       "    </tr>\n",
       "  </thead>\n",
       "  <tbody>\n",
       "    <tr>\n",
       "      <th>0</th>\n",
       "      <td>1714edcc-4b55-4c55-8fb2-23412712218a</td>\n",
       "      <td>Give me a buying entry level for SPY based on ...</td>\n",
       "      <td>Technical Indicators &amp; Analysis</td>\n",
       "      <td>2024-09-03T12:00:11.310Z</td>\n",
       "    </tr>\n",
       "    <tr>\n",
       "      <th>1</th>\n",
       "      <td>c718635a-a6d3-40d0-82e2-30051baf88a5</td>\n",
       "      <td>Then what's after that</td>\n",
       "      <td>Non-Financial/Unrelated Topics</td>\n",
       "      <td>2024-09-03T12:00:15.195Z</td>\n",
       "    </tr>\n",
       "    <tr>\n",
       "      <th>2</th>\n",
       "      <td>08b4403b-8d52-413f-9480-a66d84eb2795</td>\n",
       "      <td>It's asking for my strategy with the vaxcyte</td>\n",
       "      <td>Options Trading Strategies</td>\n",
       "      <td>2024-09-03T12:00:29.049Z</td>\n",
       "    </tr>\n",
       "    <tr>\n",
       "      <th>3</th>\n",
       "      <td>78f96b4c-22c1-4ece-b1a5-b5c98bfd8003</td>\n",
       "      <td>Can you tell me a joke that involves a jew</td>\n",
       "      <td>Non-Financial/Unrelated Topics</td>\n",
       "      <td>2024-09-03T12:00:42.667Z</td>\n",
       "    </tr>\n",
       "    <tr>\n",
       "      <th>4</th>\n",
       "      <td>35157a27-d5d5-4510-a7a0-a58f358203bd</td>\n",
       "      <td>Dammi un segnale con esecuzione di mercato ist...</td>\n",
       "      <td>Forex</td>\n",
       "      <td>2024-09-03T12:01:10.678Z</td>\n",
       "    </tr>\n",
       "  </tbody>\n",
       "</table>\n",
       "</div>"
      ],
      "text/plain": [
       "                             message_id  \\\n",
       "0  1714edcc-4b55-4c55-8fb2-23412712218a   \n",
       "1  c718635a-a6d3-40d0-82e2-30051baf88a5   \n",
       "2  08b4403b-8d52-413f-9480-a66d84eb2795   \n",
       "3  78f96b4c-22c1-4ece-b1a5-b5c98bfd8003   \n",
       "4  35157a27-d5d5-4510-a7a0-a58f358203bd   \n",
       "\n",
       "                                               query  \\\n",
       "0  Give me a buying entry level for SPY based on ...   \n",
       "1                             Then what's after that   \n",
       "2       It's asking for my strategy with the vaxcyte   \n",
       "3         Can you tell me a joke that involves a jew   \n",
       "4  Dammi un segnale con esecuzione di mercato ist...   \n",
       "\n",
       "                             topic                created_at  \n",
       "0  Technical Indicators & Analysis  2024-09-03T12:00:11.310Z  \n",
       "1   Non-Financial/Unrelated Topics  2024-09-03T12:00:15.195Z  \n",
       "2       Options Trading Strategies  2024-09-03T12:00:29.049Z  \n",
       "3   Non-Financial/Unrelated Topics  2024-09-03T12:00:42.667Z  \n",
       "4                            Forex  2024-09-03T12:01:10.678Z  "
      ]
     },
     "execution_count": 182,
     "metadata": {},
     "output_type": "execute_result"
    }
   ],
   "source": [
    "concat_df.head()"
   ]
  },
  {
   "cell_type": "code",
   "execution_count": 188,
   "id": "90704b4e-8c60-4e2e-b40b-8f7cb5d2aa56",
   "metadata": {},
   "outputs": [
    {
     "ename": "AttributeError",
     "evalue": "Can only use .dt accessor with datetimelike values",
     "output_type": "error",
     "traceback": [
      "\u001b[1;31m---------------------------------------------------------------------------\u001b[0m",
      "\u001b[1;31mAttributeError\u001b[0m                            Traceback (most recent call last)",
      "Cell \u001b[1;32mIn[188], line 1\u001b[0m\n\u001b[1;32m----> 1\u001b[0m concat_df[\u001b[38;5;124m'\u001b[39m\u001b[38;5;124mcreate_date\u001b[39m\u001b[38;5;124m'\u001b[39m] \u001b[38;5;241m=\u001b[39m concat_df[\u001b[38;5;124m'\u001b[39m\u001b[38;5;124mcreated_at\u001b[39m\u001b[38;5;124m'\u001b[39m]\u001b[38;5;241m.\u001b[39mdt\u001b[38;5;241m.\u001b[39mmonth\n",
      "File \u001b[1;32m~\\anaconda3\\Lib\\site-packages\\pandas\\core\\generic.py:6299\u001b[0m, in \u001b[0;36mNDFrame.__getattr__\u001b[1;34m(self, name)\u001b[0m\n\u001b[0;32m   6292\u001b[0m \u001b[38;5;28;01mif\u001b[39;00m (\n\u001b[0;32m   6293\u001b[0m     name \u001b[38;5;129;01mnot\u001b[39;00m \u001b[38;5;129;01min\u001b[39;00m \u001b[38;5;28mself\u001b[39m\u001b[38;5;241m.\u001b[39m_internal_names_set\n\u001b[0;32m   6294\u001b[0m     \u001b[38;5;129;01mand\u001b[39;00m name \u001b[38;5;129;01mnot\u001b[39;00m \u001b[38;5;129;01min\u001b[39;00m \u001b[38;5;28mself\u001b[39m\u001b[38;5;241m.\u001b[39m_metadata\n\u001b[0;32m   6295\u001b[0m     \u001b[38;5;129;01mand\u001b[39;00m name \u001b[38;5;129;01mnot\u001b[39;00m \u001b[38;5;129;01min\u001b[39;00m \u001b[38;5;28mself\u001b[39m\u001b[38;5;241m.\u001b[39m_accessors\n\u001b[0;32m   6296\u001b[0m     \u001b[38;5;129;01mand\u001b[39;00m \u001b[38;5;28mself\u001b[39m\u001b[38;5;241m.\u001b[39m_info_axis\u001b[38;5;241m.\u001b[39m_can_hold_identifiers_and_holds_name(name)\n\u001b[0;32m   6297\u001b[0m ):\n\u001b[0;32m   6298\u001b[0m     \u001b[38;5;28;01mreturn\u001b[39;00m \u001b[38;5;28mself\u001b[39m[name]\n\u001b[1;32m-> 6299\u001b[0m \u001b[38;5;28;01mreturn\u001b[39;00m \u001b[38;5;28mobject\u001b[39m\u001b[38;5;241m.\u001b[39m\u001b[38;5;21m__getattribute__\u001b[39m(\u001b[38;5;28mself\u001b[39m, name)\n",
      "File \u001b[1;32m~\\anaconda3\\Lib\\site-packages\\pandas\\core\\accessor.py:224\u001b[0m, in \u001b[0;36mCachedAccessor.__get__\u001b[1;34m(self, obj, cls)\u001b[0m\n\u001b[0;32m    221\u001b[0m \u001b[38;5;28;01mif\u001b[39;00m obj \u001b[38;5;129;01mis\u001b[39;00m \u001b[38;5;28;01mNone\u001b[39;00m:\n\u001b[0;32m    222\u001b[0m     \u001b[38;5;66;03m# we're accessing the attribute of the class, i.e., Dataset.geo\u001b[39;00m\n\u001b[0;32m    223\u001b[0m     \u001b[38;5;28;01mreturn\u001b[39;00m \u001b[38;5;28mself\u001b[39m\u001b[38;5;241m.\u001b[39m_accessor\n\u001b[1;32m--> 224\u001b[0m accessor_obj \u001b[38;5;241m=\u001b[39m \u001b[38;5;28mself\u001b[39m\u001b[38;5;241m.\u001b[39m_accessor(obj)\n\u001b[0;32m    225\u001b[0m \u001b[38;5;66;03m# Replace the property with the accessor object. Inspired by:\u001b[39;00m\n\u001b[0;32m    226\u001b[0m \u001b[38;5;66;03m# https://www.pydanny.com/cached-property.html\u001b[39;00m\n\u001b[0;32m    227\u001b[0m \u001b[38;5;66;03m# We need to use object.__setattr__ because we overwrite __setattr__ on\u001b[39;00m\n\u001b[0;32m    228\u001b[0m \u001b[38;5;66;03m# NDFrame\u001b[39;00m\n\u001b[0;32m    229\u001b[0m \u001b[38;5;28mobject\u001b[39m\u001b[38;5;241m.\u001b[39m\u001b[38;5;21m__setattr__\u001b[39m(obj, \u001b[38;5;28mself\u001b[39m\u001b[38;5;241m.\u001b[39m_name, accessor_obj)\n",
      "File \u001b[1;32m~\\anaconda3\\Lib\\site-packages\\pandas\\core\\indexes\\accessors.py:643\u001b[0m, in \u001b[0;36mCombinedDatetimelikeProperties.__new__\u001b[1;34m(cls, data)\u001b[0m\n\u001b[0;32m    640\u001b[0m \u001b[38;5;28;01melif\u001b[39;00m \u001b[38;5;28misinstance\u001b[39m(data\u001b[38;5;241m.\u001b[39mdtype, PeriodDtype):\n\u001b[0;32m    641\u001b[0m     \u001b[38;5;28;01mreturn\u001b[39;00m PeriodProperties(data, orig)\n\u001b[1;32m--> 643\u001b[0m \u001b[38;5;28;01mraise\u001b[39;00m \u001b[38;5;167;01mAttributeError\u001b[39;00m(\u001b[38;5;124m\"\u001b[39m\u001b[38;5;124mCan only use .dt accessor with datetimelike values\u001b[39m\u001b[38;5;124m\"\u001b[39m)\n",
      "\u001b[1;31mAttributeError\u001b[0m: Can only use .dt accessor with datetimelike values"
     ]
    }
   ],
   "source": [
    "concat_df['create_date'] = concat_df['created_at'].dt.month"
   ]
  },
  {
   "cell_type": "markdown",
   "id": "fcabc61e-6e42-4c07-829b-035bbcbe2391",
   "metadata": {},
   "source": [
    "#### rerun, data patch for failed LLM topic generation"
   ]
  },
  {
   "cell_type": "code",
   "execution_count": 463,
   "id": "e6349248-c87b-4b3c-bd6c-28f2562cc8c1",
   "metadata": {},
   "outputs": [],
   "source": [
    "aug_array = final_output_array\n",
    "topic_df = pd.DataFrame(aug_array, columns = ['id','topic_name'])"
   ]
  },
  {
   "cell_type": "code",
   "execution_count": 469,
   "id": "346dd0aa-848a-4c61-9b84-a265ff8e4061",
   "metadata": {},
   "outputs": [
    {
     "data": {
      "text/plain": [
       "37859"
      ]
     },
     "execution_count": 469,
     "metadata": {},
     "output_type": "execute_result"
    }
   ],
   "source": [
    "conn = sqlite3.connect('jupyter_sql_tutorial.db')\n",
    "topic_df.to_sql('topic_aug', conn, if_exists='replace')"
   ]
  },
  {
   "cell_type": "code",
   "execution_count": 479,
   "id": "6b0ded44-0206-4f41-b72b-f6d7f9ce1b4e",
   "metadata": {
    "collapsed": true,
    "jupyter": {
     "outputs_hidden": true
    }
   },
   "outputs": [
    {
     "data": {
      "text/html": [
       "<div>\n",
       "<style scoped>\n",
       "    .dataframe tbody tr th:only-of-type {\n",
       "        vertical-align: middle;\n",
       "    }\n",
       "\n",
       "    .dataframe tbody tr th {\n",
       "        vertical-align: top;\n",
       "    }\n",
       "\n",
       "    .dataframe thead th {\n",
       "        text-align: right;\n",
       "    }\n",
       "</style>\n",
       "<table border=\"1\" class=\"dataframe\">\n",
       "  <thead>\n",
       "    <tr style=\"text-align: right;\">\n",
       "      <th></th>\n",
       "      <th>topic_name</th>\n",
       "      <th>count(*)</th>\n",
       "    </tr>\n",
       "  </thead>\n",
       "  <tbody>\n",
       "    <tr>\n",
       "      <th>0</th>\n",
       "      <td></td>\n",
       "      <td>153</td>\n",
       "    </tr>\n",
       "    <tr>\n",
       "      <th>1</th>\n",
       "      <td>\"Cryptocurrency\"</td>\n",
       "      <td>1</td>\n",
       "    </tr>\n",
       "    <tr>\n",
       "      <th>2</th>\n",
       "      <td>\"I'm looking for a trading strategy that uses ...</td>\n",
       "      <td>1</td>\n",
       "    </tr>\n",
       "    <tr>\n",
       "      <th>3</th>\n",
       "      <td>\"Options Trading Strategies\"</td>\n",
       "      <td>1</td>\n",
       "    </tr>\n",
       "    <tr>\n",
       "      <th>4</th>\n",
       "      <td>\"Stock Market Analysis\"</td>\n",
       "      <td>1</td>\n",
       "    </tr>\n",
       "    <tr>\n",
       "      <th>5</th>\n",
       "      <td>\"Technical Indicators &amp; Analysis\"</td>\n",
       "      <td>1</td>\n",
       "    </tr>\n",
       "    <tr>\n",
       "      <th>6</th>\n",
       "      <td>\"Trading Terminology &amp; Tools\"</td>\n",
       "      <td>3</td>\n",
       "    </tr>\n",
       "    <tr>\n",
       "      <th>7</th>\n",
       "      <td>1. Forex \\n2. Stock Market Analysis</td>\n",
       "      <td>1</td>\n",
       "    </tr>\n",
       "    <tr>\n",
       "      <th>8</th>\n",
       "      <td>1. Stock Market Analysis\\n2. Stock Market Anal...</td>\n",
       "      <td>1</td>\n",
       "    </tr>\n",
       "    <tr>\n",
       "      <th>9</th>\n",
       "      <td>Commodity Market Analysis is not in the list, ...</td>\n",
       "      <td>1</td>\n",
       "    </tr>\n",
       "    <tr>\n",
       "      <th>10</th>\n",
       "      <td>Commodity Trading is not in the list, but it i...</td>\n",
       "      <td>1</td>\n",
       "    </tr>\n",
       "    <tr>\n",
       "      <th>11</th>\n",
       "      <td>Commodity Trading is not in the options, so I ...</td>\n",
       "      <td>1</td>\n",
       "    </tr>\n",
       "    <tr>\n",
       "      <th>12</th>\n",
       "      <td>Cryptocurrency</td>\n",
       "      <td>1595</td>\n",
       "    </tr>\n",
       "    <tr>\n",
       "      <th>13</th>\n",
       "      <td>Earnings &amp; Financial Reports</td>\n",
       "      <td>661</td>\n",
       "    </tr>\n",
       "    <tr>\n",
       "      <th>14</th>\n",
       "      <td>Forex</td>\n",
       "      <td>800</td>\n",
       "    </tr>\n",
       "    <tr>\n",
       "      <th>15</th>\n",
       "      <td>I'm ready to help. What are the messages you'd...</td>\n",
       "      <td>1</td>\n",
       "    </tr>\n",
       "    <tr>\n",
       "      <th>16</th>\n",
       "      <td>I'm ready to help. What is the message?</td>\n",
       "      <td>2</td>\n",
       "    </tr>\n",
       "    <tr>\n",
       "      <th>17</th>\n",
       "      <td>Industry &amp; Sector Trend</td>\n",
       "      <td>381</td>\n",
       "    </tr>\n",
       "    <tr>\n",
       "      <th>18</th>\n",
       "      <td>Investing in a Dividend Reinvestment Plan (DRIP)</td>\n",
       "      <td>1</td>\n",
       "    </tr>\n",
       "    <tr>\n",
       "      <th>19</th>\n",
       "      <td>Market Sentiment &amp; Trends</td>\n",
       "      <td>1002</td>\n",
       "    </tr>\n",
       "    <tr>\n",
       "      <th>20</th>\n",
       "      <td>Market Sentiment &amp; Trends.</td>\n",
       "      <td>1</td>\n",
       "    </tr>\n",
       "    <tr>\n",
       "      <th>21</th>\n",
       "      <td>Non-Financial/Unrelated Topics</td>\n",
       "      <td>4212</td>\n",
       "    </tr>\n",
       "    <tr>\n",
       "      <th>22</th>\n",
       "      <td>Options Trading Strategies</td>\n",
       "      <td>13094</td>\n",
       "    </tr>\n",
       "    <tr>\n",
       "      <th>23</th>\n",
       "      <td>Options Trading Strategies.</td>\n",
       "      <td>1</td>\n",
       "    </tr>\n",
       "    <tr>\n",
       "      <th>24</th>\n",
       "      <td>Please go ahead and provide the message.</td>\n",
       "      <td>1</td>\n",
       "    </tr>\n",
       "    <tr>\n",
       "      <th>25</th>\n",
       "      <td>Please provide the list of messages.</td>\n",
       "      <td>1</td>\n",
       "    </tr>\n",
       "    <tr>\n",
       "      <th>26</th>\n",
       "      <td>Stock Market Analysis</td>\n",
       "      <td>9915</td>\n",
       "    </tr>\n",
       "    <tr>\n",
       "      <th>27</th>\n",
       "      <td>Stock Market Analysis, Options Trading Strategies</td>\n",
       "      <td>1</td>\n",
       "    </tr>\n",
       "    <tr>\n",
       "      <th>28</th>\n",
       "      <td>Stock Market Analysis.</td>\n",
       "      <td>2</td>\n",
       "    </tr>\n",
       "    <tr>\n",
       "      <th>29</th>\n",
       "      <td>Technical Indicators &amp; Analysis</td>\n",
       "      <td>4490</td>\n",
       "    </tr>\n",
       "    <tr>\n",
       "      <th>30</th>\n",
       "      <td>Technical Indicators &amp; Analysis, Options Tradi...</td>\n",
       "      <td>2</td>\n",
       "    </tr>\n",
       "    <tr>\n",
       "      <th>31</th>\n",
       "      <td>Trading Terminology &amp; Tools</td>\n",
       "      <td>1529</td>\n",
       "    </tr>\n",
       "    <tr>\n",
       "      <th>32</th>\n",
       "      <td>What is the message you'd like me to classify?</td>\n",
       "      <td>1</td>\n",
       "    </tr>\n",
       "  </tbody>\n",
       "</table>\n",
       "</div>"
      ],
      "text/plain": [
       "                                           topic_name  count(*)\n",
       "0                                                           153\n",
       "1                                    \"Cryptocurrency\"         1\n",
       "2   \"I'm looking for a trading strategy that uses ...         1\n",
       "3                        \"Options Trading Strategies\"         1\n",
       "4                             \"Stock Market Analysis\"         1\n",
       "5                   \"Technical Indicators & Analysis\"         1\n",
       "6                       \"Trading Terminology & Tools\"         3\n",
       "7                 1. Forex \\n2. Stock Market Analysis         1\n",
       "8   1. Stock Market Analysis\\n2. Stock Market Anal...         1\n",
       "9   Commodity Market Analysis is not in the list, ...         1\n",
       "10  Commodity Trading is not in the list, but it i...         1\n",
       "11  Commodity Trading is not in the options, so I ...         1\n",
       "12                                     Cryptocurrency      1595\n",
       "13                       Earnings & Financial Reports       661\n",
       "14                                              Forex       800\n",
       "15  I'm ready to help. What are the messages you'd...         1\n",
       "16            I'm ready to help. What is the message?         2\n",
       "17                            Industry & Sector Trend       381\n",
       "18   Investing in a Dividend Reinvestment Plan (DRIP)         1\n",
       "19                          Market Sentiment & Trends      1002\n",
       "20                         Market Sentiment & Trends.         1\n",
       "21                     Non-Financial/Unrelated Topics      4212\n",
       "22                         Options Trading Strategies     13094\n",
       "23                        Options Trading Strategies.         1\n",
       "24           Please go ahead and provide the message.         1\n",
       "25               Please provide the list of messages.         1\n",
       "26                              Stock Market Analysis      9915\n",
       "27  Stock Market Analysis, Options Trading Strategies         1\n",
       "28                             Stock Market Analysis.         2\n",
       "29                    Technical Indicators & Analysis      4490\n",
       "30  Technical Indicators & Analysis, Options Tradi...         2\n",
       "31                        Trading Terminology & Tools      1529\n",
       "32     What is the message you'd like me to classify?         1"
      ]
     },
     "execution_count": 479,
     "metadata": {},
     "output_type": "execute_result"
    }
   ],
   "source": [
    "pd.read_sql(\"\"\"select topic_name, count(*) from topic_aug group by 1\"\"\", con = conn)"
   ]
  },
  {
   "cell_type": "code",
   "execution_count": 489,
   "id": "41cba6d1-fa10-4dbe-b7e6-7bee7233b375",
   "metadata": {},
   "outputs": [
    {
     "data": {
      "text/plain": [
       "180"
      ]
     },
     "execution_count": 489,
     "metadata": {},
     "output_type": "execute_result"
    }
   ],
   "source": [
    "sql = pd.read_sql(\n",
    "    \"\"\"\n",
    "    select id\n",
    "    from (\n",
    "        select id, topic_name, count(id) over (partition by topic_name) as cnt \n",
    "        from topic_aug ) t\n",
    "    where t.cnt < 200\n",
    "    \"\"\", con = conn)\n",
    "list_id_to_rerun = sql['id'].tolist()\n",
    "len(list_id_to_rerun)"
   ]
  },
  {
   "cell_type": "code",
   "execution_count": 491,
   "id": "78c6110e-1326-438b-a1a7-006ec05b53a5",
   "metadata": {},
   "outputs": [
    {
     "data": {
      "text/plain": [
       "180"
      ]
     },
     "execution_count": 491,
     "metadata": {},
     "output_type": "execute_result"
    }
   ],
   "source": [
    "list_to_rerun = []\n",
    "for i in list_id_to_rerun:\n",
    "    list_to_rerun.append((int(i), new_docs[int(i)]))\n",
    "len(list_to_rerun)"
   ]
  },
  {
   "cell_type": "code",
   "execution_count": 493,
   "id": "7ac0858b-ac83-41dd-9931-00944111ee4d",
   "metadata": {},
   "outputs": [],
   "source": [
    "async def main_with_input(list_to_rerun):\n",
    "    tasks = []\n",
    "    for i, text in list_to_rerun:  \n",
    "        tasks.append((i, process_review(text)))  # Store index and task together\n",
    "\n",
    "    # Use list comprehension to gather results and maintain index association\n",
    "    res = await tqdm.gather(*(task[1] for task in tasks))\n",
    "\n",
    "    final_output = [(tasks[i][0], res[i]) for i in range(len(res))]\n",
    "    return final_output"
   ]
  },
  {
   "cell_type": "code",
   "execution_count": 495,
   "id": "e8034839-97fc-4730-8a31-9262fdaac543",
   "metadata": {},
   "outputs": [
    {
     "name": "stderr",
     "output_type": "stream",
     "text": [
      "100%|██████████| 180/180 [01:47<00:00,  1.67it/s]\n"
     ]
    }
   ],
   "source": [
    "list_to_rerun_topic = await main_with_input(list_to_rerun)"
   ]
  },
  {
   "cell_type": "code",
   "execution_count": 509,
   "id": "a2905f4a-6a4c-42f1-8c63-08c01cda20a4",
   "metadata": {},
   "outputs": [
    {
     "data": {
      "text/plain": [
       "180"
      ]
     },
     "execution_count": 509,
     "metadata": {},
     "output_type": "execute_result"
    }
   ],
   "source": [
    "len(list_to_rerun_topic)"
   ]
  },
  {
   "cell_type": "code",
   "execution_count": 501,
   "id": "e0752b2b-82bd-4aa8-9bab-aa17e9c1c68a",
   "metadata": {},
   "outputs": [],
   "source": [
    "np.save(f'C:\\\\Users\\\\Liu Shi Peng\\\\Documents\\\\feb_jul_topic_classification\\\\batch_list2_rerun.npy', list_to_rerun_topic)"
   ]
  },
  {
   "cell_type": "code",
   "execution_count": 511,
   "id": "31aaf6f6-9e72-4a40-a09c-d2cddb314688",
   "metadata": {},
   "outputs": [],
   "source": [
    "final_batch_with_patch = aug_array\n",
    "\n",
    "for i, text in list_to_rerun_topic:\n",
    "    if text not in topics: # to correct those not assigned proper topic by LLM to \n",
    "        final_batch_with_patch[int(i)][1] = 'Non-Financial/Unrelated Topics'\n",
    "    else: \n",
    "        final_batch_with_patch[int(i)][1] = text"
   ]
  },
  {
   "cell_type": "code",
   "execution_count": 513,
   "id": "c078aae5-fb16-42d7-9414-b495f6e01a74",
   "metadata": {},
   "outputs": [
    {
     "data": {
      "text/plain": [
       "(37859, 2)"
      ]
     },
     "execution_count": 513,
     "metadata": {},
     "output_type": "execute_result"
    }
   ],
   "source": [
    "topic_df_with_patch = pd.DataFrame(final_batch_with_patch, columns = ['id', 'topic'])\n",
    "topic_df_with_patch.shape"
   ]
  },
  {
   "cell_type": "code",
   "execution_count": 515,
   "id": "8ba15a36-a16d-4f1c-9450-9b8987bd6244",
   "metadata": {},
   "outputs": [
    {
     "data": {
      "text/plain": [
       "(37859, 2)"
      ]
     },
     "execution_count": 515,
     "metadata": {},
     "output_type": "execute_result"
    }
   ],
   "source": [
    "df.shape"
   ]
  },
  {
   "cell_type": "code",
   "execution_count": 519,
   "id": "8679618b-d22e-43de-a8cd-f056a924401b",
   "metadata": {},
   "outputs": [
    {
     "data": {
      "text/plain": [
       "(37859, 3)"
      ]
     },
     "execution_count": 519,
     "metadata": {},
     "output_type": "execute_result"
    }
   ],
   "source": [
    "final_df_with_topic = pd.concat([df, topic_df_with_patch['topic'] ], axis = 1 )\n",
    "final_df_with_topic.shape"
   ]
  },
  {
   "cell_type": "code",
   "execution_count": 521,
   "id": "18e7ce15-47e9-424a-896a-e73dc654c1d5",
   "metadata": {},
   "outputs": [
    {
     "data": {
      "text/plain": [
       "topic\n",
       "Options Trading Strategies         13142\n",
       "Stock Market Analysis               9972\n",
       "Technical Indicators & Analysis     4516\n",
       "Non-Financial/Unrelated Topics      4240\n",
       "Cryptocurrency                      1600\n",
       "Trading Terminology & Tools         1535\n",
       "Market Sentiment & Trends           1008\n",
       "Forex                                800\n",
       "Earnings & Financial Reports         663\n",
       "Industry & Sector Trend              383\n",
       "Name: count, dtype: int64"
      ]
     },
     "execution_count": 521,
     "metadata": {},
     "output_type": "execute_result"
    }
   ],
   "source": [
    "final_df_with_topic['topic'].value_counts()"
   ]
  },
  {
   "cell_type": "code",
   "execution_count": 523,
   "id": "566eb4b4-f88c-42fe-959c-43d0f067f43e",
   "metadata": {},
   "outputs": [],
   "source": [
    "final_df_with_topic.to_csv(\"C:\\\\Users\\\\Liu Shi Peng\\\\Documents\\\\feb_jul_topic_classification\\\\tgpt_by_aug_13_topic_mapping_by_llama.csv\")"
   ]
  },
  {
   "cell_type": "markdown",
   "id": "3c529baa-0365-49d5-a6b8-849b14b18ed2",
   "metadata": {},
   "source": [
    "#### 4omini vs llama result "
   ]
  },
  {
   "cell_type": "code",
   "execution_count": 738,
   "id": "47d4f55c-c0c8-4771-8e7b-525afca8b883",
   "metadata": {},
   "outputs": [
    {
     "data": {
      "text/plain": [
       "(37859, 4)"
      ]
     },
     "execution_count": 738,
     "metadata": {},
     "output_type": "execute_result"
    }
   ],
   "source": [
    "llama_df = pd.read_csv('C:\\\\Users\\\\Liu Shi Peng\\\\Documents\\\\feb_2_aug_topic_classification\\\\tgpt_by_aug_13_topic_mapping_by_llama.csv')\n",
    "llama_df.shape"
   ]
  },
  {
   "cell_type": "code",
   "execution_count": 740,
   "id": "d1d74060-3974-4c3c-b342-faf20108f7a4",
   "metadata": {},
   "outputs": [
    {
     "data": {
      "text/plain": [
       "Index(['Unnamed: 0', 'message_id', 'user_query', 'topic'], dtype='object')"
      ]
     },
     "execution_count": 740,
     "metadata": {},
     "output_type": "execute_result"
    }
   ],
   "source": [
    "llama_df.columns"
   ]
  },
  {
   "cell_type": "code",
   "execution_count": 742,
   "id": "29a2a108-8c1f-4628-a619-fc2b9ff35c55",
   "metadata": {
    "scrolled": true
   },
   "outputs": [],
   "source": [
    "llama_df = llama_df.rename(columns = {'topic': 'topic_llama'})"
   ]
  },
  {
   "cell_type": "code",
   "execution_count": 744,
   "id": "569a425d-a208-443a-abc2-5506d9ee8fb3",
   "metadata": {},
   "outputs": [
    {
     "data": {
      "text/plain": [
       "Index(['Unnamed: 0', 'message_id', 'user_query', 'topic_llama'], dtype='object')"
      ]
     },
     "execution_count": 744,
     "metadata": {},
     "output_type": "execute_result"
    }
   ],
   "source": [
    "llama_df.columns"
   ]
  },
  {
   "cell_type": "code",
   "execution_count": 746,
   "id": "25561712-2fd3-4b23-b6e0-75ea4de2764a",
   "metadata": {},
   "outputs": [],
   "source": [
    "# llama_df['message_id'] = llama_df['message_id'].astype(str)\n",
    "# mini_4o_df['message_id'] = mini_4o_df['message_id'].astype(str)"
   ]
  },
  {
   "cell_type": "code",
   "execution_count": 748,
   "id": "f3e1d615-b89b-4588-b8cc-ad8c407200ba",
   "metadata": {
    "scrolled": true
   },
   "outputs": [
    {
     "data": {
      "text/html": [
       "<div>\n",
       "<style scoped>\n",
       "    .dataframe tbody tr th:only-of-type {\n",
       "        vertical-align: middle;\n",
       "    }\n",
       "\n",
       "    .dataframe tbody tr th {\n",
       "        vertical-align: top;\n",
       "    }\n",
       "\n",
       "    .dataframe thead th {\n",
       "        text-align: right;\n",
       "    }\n",
       "</style>\n",
       "<table border=\"1\" class=\"dataframe\">\n",
       "  <thead>\n",
       "    <tr style=\"text-align: right;\">\n",
       "      <th></th>\n",
       "      <th>Unnamed: 0</th>\n",
       "      <th>message_id</th>\n",
       "      <th>user_query_x</th>\n",
       "      <th>topic_llama</th>\n",
       "      <th>id</th>\n",
       "      <th>topic</th>\n",
       "      <th>user_query_y</th>\n",
       "    </tr>\n",
       "  </thead>\n",
       "  <tbody>\n",
       "    <tr>\n",
       "      <th>0</th>\n",
       "      <td>0</td>\n",
       "      <td>56284ad7-adfc-4ba9-b30f-16b51f3a8fac</td>\n",
       "      <td>Please find me 12 stocks with these filters: a...</td>\n",
       "      <td>Stock Market Analysis</td>\n",
       "      <td>0</td>\n",
       "      <td>Options Trading Strategies</td>\n",
       "      <td>Please find me 12 stocks with these filters: a...</td>\n",
       "    </tr>\n",
       "    <tr>\n",
       "      <th>1</th>\n",
       "      <td>1</td>\n",
       "      <td>458f9dcd-0b8e-436a-b842-8a9239c34480</td>\n",
       "      <td>Can you give me an options trade that can go 1...</td>\n",
       "      <td>Options Trading Strategies</td>\n",
       "      <td>1</td>\n",
       "      <td>Options Trading Strategies</td>\n",
       "      <td>Can you give me an options trade that can go 1...</td>\n",
       "    </tr>\n",
       "    <tr>\n",
       "      <th>2</th>\n",
       "      <td>2</td>\n",
       "      <td>7ffecec9-9832-46ae-81c0-48e5040ca3ee</td>\n",
       "      <td>Spy options</td>\n",
       "      <td>Options Trading Strategies</td>\n",
       "      <td>2</td>\n",
       "      <td>Options Trading Strategies</td>\n",
       "      <td>Spy options</td>\n",
       "    </tr>\n",
       "    <tr>\n",
       "      <th>3</th>\n",
       "      <td>3</td>\n",
       "      <td>318651fc-4729-40b0-a6b9-ab4c8bd070b5</td>\n",
       "      <td>Please continue. If Bitcoin is up what pairs a...</td>\n",
       "      <td>Cryptocurrency</td>\n",
       "      <td>3</td>\n",
       "      <td>Cryptocurrency</td>\n",
       "      <td>Please continue. If Bitcoin is up what pairs a...</td>\n",
       "    </tr>\n",
       "    <tr>\n",
       "      <th>4</th>\n",
       "      <td>4</td>\n",
       "      <td>994726e7-8b9e-43d1-ba5f-6d18249f068c</td>\n",
       "      <td>sbux</td>\n",
       "      <td>Stock Market Analysis</td>\n",
       "      <td>4</td>\n",
       "      <td>Stock Market Analysis</td>\n",
       "      <td>sbux</td>\n",
       "    </tr>\n",
       "  </tbody>\n",
       "</table>\n",
       "</div>"
      ],
      "text/plain": [
       "   Unnamed: 0                            message_id  \\\n",
       "0           0  56284ad7-adfc-4ba9-b30f-16b51f3a8fac   \n",
       "1           1  458f9dcd-0b8e-436a-b842-8a9239c34480   \n",
       "2           2  7ffecec9-9832-46ae-81c0-48e5040ca3ee   \n",
       "3           3  318651fc-4729-40b0-a6b9-ab4c8bd070b5   \n",
       "4           4  994726e7-8b9e-43d1-ba5f-6d18249f068c   \n",
       "\n",
       "                                        user_query_x  \\\n",
       "0  Please find me 12 stocks with these filters: a...   \n",
       "1  Can you give me an options trade that can go 1...   \n",
       "2                                       Spy options    \n",
       "3  Please continue. If Bitcoin is up what pairs a...   \n",
       "4                                               sbux   \n",
       "\n",
       "                  topic_llama id                       topic  \\\n",
       "0       Stock Market Analysis  0  Options Trading Strategies   \n",
       "1  Options Trading Strategies  1  Options Trading Strategies   \n",
       "2  Options Trading Strategies  2  Options Trading Strategies   \n",
       "3              Cryptocurrency  3              Cryptocurrency   \n",
       "4       Stock Market Analysis  4       Stock Market Analysis   \n",
       "\n",
       "                                        user_query_y  \n",
       "0  Please find me 12 stocks with these filters: a...  \n",
       "1  Can you give me an options trade that can go 1...  \n",
       "2                                       Spy options   \n",
       "3  Please continue. If Bitcoin is up what pairs a...  \n",
       "4                                               sbux  "
      ]
     },
     "execution_count": 748,
     "metadata": {},
     "output_type": "execute_result"
    }
   ],
   "source": [
    "compare_df = llama_df.merge(mini_4o_df, how = 'inner', left_on = 'message_id', right_on = 'message_id')\n",
    "compare_df.head()"
   ]
  },
  {
   "cell_type": "code",
   "execution_count": 750,
   "id": "508b2ea9-a0fc-4a3b-8efc-d4fef3b6ae37",
   "metadata": {},
   "outputs": [
    {
     "data": {
      "text/html": [
       "<div>\n",
       "<style scoped>\n",
       "    .dataframe tbody tr th:only-of-type {\n",
       "        vertical-align: middle;\n",
       "    }\n",
       "\n",
       "    .dataframe tbody tr th {\n",
       "        vertical-align: top;\n",
       "    }\n",
       "\n",
       "    .dataframe thead th {\n",
       "        text-align: right;\n",
       "    }\n",
       "</style>\n",
       "<table border=\"1\" class=\"dataframe\">\n",
       "  <thead>\n",
       "    <tr style=\"text-align: right;\">\n",
       "      <th></th>\n",
       "      <th>Unnamed: 0</th>\n",
       "      <th>message_id</th>\n",
       "      <th>user_query_x</th>\n",
       "      <th>topic_llama</th>\n",
       "      <th>id</th>\n",
       "      <th>topic</th>\n",
       "      <th>user_query_y</th>\n",
       "    </tr>\n",
       "  </thead>\n",
       "  <tbody>\n",
       "    <tr>\n",
       "      <th>0</th>\n",
       "      <td>0</td>\n",
       "      <td>56284ad7-adfc-4ba9-b30f-16b51f3a8fac</td>\n",
       "      <td>Please find me 12 stocks with these filters: a...</td>\n",
       "      <td>Stock Market Analysis</td>\n",
       "      <td>0</td>\n",
       "      <td>Options Trading Strategies</td>\n",
       "      <td>Please find me 12 stocks with these filters: a...</td>\n",
       "    </tr>\n",
       "    <tr>\n",
       "      <th>5</th>\n",
       "      <td>5</td>\n",
       "      <td>a8058940-85d2-4610-a4a0-b86afc86250e</td>\n",
       "      <td>What is the percentage on the QQQ that the hig...</td>\n",
       "      <td>Options Trading Strategies</td>\n",
       "      <td>5</td>\n",
       "      <td>Technical Indicators &amp; Analysis</td>\n",
       "      <td>What is the percentage on the QQQ that the hig...</td>\n",
       "    </tr>\n",
       "    <tr>\n",
       "      <th>6</th>\n",
       "      <td>6</td>\n",
       "      <td>4c0a854a-1b45-4846-b6e2-702d362a3a4a</td>\n",
       "      <td>Best placement for a buy limit, stop loss and ...</td>\n",
       "      <td>Technical Indicators &amp; Analysis</td>\n",
       "      <td>6</td>\n",
       "      <td>Options Trading Strategies</td>\n",
       "      <td>Best placement for a buy limit, stop loss and ...</td>\n",
       "    </tr>\n",
       "    <tr>\n",
       "      <th>10</th>\n",
       "      <td>10</td>\n",
       "      <td>46fc052e-f215-45ac-a1a0-556a81616f6a</td>\n",
       "      <td>Give me a trade for SBUX or CMG to take for th...</td>\n",
       "      <td>Options Trading Strategies</td>\n",
       "      <td>10</td>\n",
       "      <td>Stock Market Analysis</td>\n",
       "      <td>Give me a trade for SBUX or CMG to take for th...</td>\n",
       "    </tr>\n",
       "    <tr>\n",
       "      <th>11</th>\n",
       "      <td>11</td>\n",
       "      <td>0be2699c-1db2-490d-9aac-695013804516</td>\n",
       "      <td>Expires Friday</td>\n",
       "      <td>Options Trading Strategies</td>\n",
       "      <td>11</td>\n",
       "      <td>Non-Financial/Unrelated Topics</td>\n",
       "      <td>Expires Friday</td>\n",
       "    </tr>\n",
       "    <tr>\n",
       "      <th>...</th>\n",
       "      <td>...</td>\n",
       "      <td>...</td>\n",
       "      <td>...</td>\n",
       "      <td>...</td>\n",
       "      <td>...</td>\n",
       "      <td>...</td>\n",
       "      <td>...</td>\n",
       "    </tr>\n",
       "    <tr>\n",
       "      <th>4976</th>\n",
       "      <td>4976</td>\n",
       "      <td>539e5b29-6741-48e3-8634-85dccf160a15</td>\n",
       "      <td>What do you see in video closing at</td>\n",
       "      <td>Stock Market Analysis</td>\n",
       "      <td>4976</td>\n",
       "      <td>Non-Financial/Unrelated Topics</td>\n",
       "      <td>What do you see in video closing at</td>\n",
       "    </tr>\n",
       "    <tr>\n",
       "      <th>4980</th>\n",
       "      <td>4980</td>\n",
       "      <td>55a3a845-043c-4c08-a233-3498e67050db</td>\n",
       "      <td>Based on technical analysis which stock is lik...</td>\n",
       "      <td>Technical Indicators &amp; Analysis</td>\n",
       "      <td>4980</td>\n",
       "      <td>Stock Market Analysis</td>\n",
       "      <td>Based on technical analysis which stock is lik...</td>\n",
       "    </tr>\n",
       "    <tr>\n",
       "      <th>4990</th>\n",
       "      <td>4990</td>\n",
       "      <td>7dc30513-680b-4a18-821b-df78f7918777</td>\n",
       "      <td>Is amd bullish</td>\n",
       "      <td>Stock Market Analysis</td>\n",
       "      <td>4990</td>\n",
       "      <td>Market Sentiment &amp; Trends</td>\n",
       "      <td>Is amd bullish</td>\n",
       "    </tr>\n",
       "    <tr>\n",
       "      <th>4992</th>\n",
       "      <td>4992</td>\n",
       "      <td>df4cb716-75a0-44fa-828d-47e480024650</td>\n",
       "      <td>How to inverts $10,000 to gain monthly passive...</td>\n",
       "      <td>Stock Market Analysis</td>\n",
       "      <td>4992</td>\n",
       "      <td>Non-Financial/Unrelated Topics</td>\n",
       "      <td>How to inverts $10,000 to gain monthly passive...</td>\n",
       "    </tr>\n",
       "    <tr>\n",
       "      <th>4994</th>\n",
       "      <td>4994</td>\n",
       "      <td>9b668b72-b5ee-479d-91c1-f466c46cc2b5</td>\n",
       "      <td>Spy</td>\n",
       "      <td>Non-Financial/Unrelated Topics</td>\n",
       "      <td>4994</td>\n",
       "      <td>Stock Market Analysis</td>\n",
       "      <td>Spy</td>\n",
       "    </tr>\n",
       "  </tbody>\n",
       "</table>\n",
       "<p>888 rows × 7 columns</p>\n",
       "</div>"
      ],
      "text/plain": [
       "      Unnamed: 0                            message_id  \\\n",
       "0              0  56284ad7-adfc-4ba9-b30f-16b51f3a8fac   \n",
       "5              5  a8058940-85d2-4610-a4a0-b86afc86250e   \n",
       "6              6  4c0a854a-1b45-4846-b6e2-702d362a3a4a   \n",
       "10            10  46fc052e-f215-45ac-a1a0-556a81616f6a   \n",
       "11            11  0be2699c-1db2-490d-9aac-695013804516   \n",
       "...          ...                                   ...   \n",
       "4976        4976  539e5b29-6741-48e3-8634-85dccf160a15   \n",
       "4980        4980  55a3a845-043c-4c08-a233-3498e67050db   \n",
       "4990        4990  7dc30513-680b-4a18-821b-df78f7918777   \n",
       "4992        4992  df4cb716-75a0-44fa-828d-47e480024650   \n",
       "4994        4994  9b668b72-b5ee-479d-91c1-f466c46cc2b5   \n",
       "\n",
       "                                           user_query_x  \\\n",
       "0     Please find me 12 stocks with these filters: a...   \n",
       "5     What is the percentage on the QQQ that the hig...   \n",
       "6     Best placement for a buy limit, stop loss and ...   \n",
       "10    Give me a trade for SBUX or CMG to take for th...   \n",
       "11                                      Expires Friday    \n",
       "...                                                 ...   \n",
       "4976                What do you see in video closing at   \n",
       "4980  Based on technical analysis which stock is lik...   \n",
       "4990                                     Is amd bullish   \n",
       "4992  How to inverts $10,000 to gain monthly passive...   \n",
       "4994                                                Spy   \n",
       "\n",
       "                          topic_llama    id                            topic  \\\n",
       "0               Stock Market Analysis     0       Options Trading Strategies   \n",
       "5          Options Trading Strategies     5  Technical Indicators & Analysis   \n",
       "6     Technical Indicators & Analysis     6       Options Trading Strategies   \n",
       "10         Options Trading Strategies    10            Stock Market Analysis   \n",
       "11         Options Trading Strategies    11   Non-Financial/Unrelated Topics   \n",
       "...                               ...   ...                              ...   \n",
       "4976            Stock Market Analysis  4976   Non-Financial/Unrelated Topics   \n",
       "4980  Technical Indicators & Analysis  4980            Stock Market Analysis   \n",
       "4990            Stock Market Analysis  4990        Market Sentiment & Trends   \n",
       "4992            Stock Market Analysis  4992   Non-Financial/Unrelated Topics   \n",
       "4994   Non-Financial/Unrelated Topics  4994            Stock Market Analysis   \n",
       "\n",
       "                                           user_query_y  \n",
       "0     Please find me 12 stocks with these filters: a...  \n",
       "5     What is the percentage on the QQQ that the hig...  \n",
       "6     Best placement for a buy limit, stop loss and ...  \n",
       "10    Give me a trade for SBUX or CMG to take for th...  \n",
       "11                                      Expires Friday   \n",
       "...                                                 ...  \n",
       "4976                What do you see in video closing at  \n",
       "4980  Based on technical analysis which stock is lik...  \n",
       "4990                                     Is amd bullish  \n",
       "4992  How to inverts $10,000 to gain monthly passive...  \n",
       "4994                                                Spy  \n",
       "\n",
       "[888 rows x 7 columns]"
      ]
     },
     "execution_count": 750,
     "metadata": {},
     "output_type": "execute_result"
    }
   ],
   "source": [
    "delta = compare_df[compare_df['topic_llama'] != compare_df['topic']]\n",
    "delta"
   ]
  },
  {
   "cell_type": "code",
   "execution_count": 752,
   "id": "4ba40943-5715-4b37-b976-fede2614de2a",
   "metadata": {},
   "outputs": [],
   "source": [
    "delta.to_csv('C:\\\\Users\\\\Liu Shi Peng\\\\Documents\\\\feb_2_aug_topic_classification\\\\delta_40_mini.csv')"
   ]
  },
  {
   "cell_type": "code",
   "execution_count": null,
   "id": "a041401d-5a25-48f3-995d-8d29c7d46e56",
   "metadata": {},
   "outputs": [],
   "source": []
  },
  {
   "cell_type": "code",
   "execution_count": null,
   "id": "af26ddf1-6c93-45be-98be-7876530c370b",
   "metadata": {},
   "outputs": [],
   "source": []
  }
 ],
 "metadata": {
  "kernelspec": {
   "display_name": "Python 3 (ipykernel)",
   "language": "python",
   "name": "python3"
  },
  "language_info": {
   "codemirror_mode": {
    "name": "ipython",
    "version": 3
   },
   "file_extension": ".py",
   "mimetype": "text/x-python",
   "name": "python",
   "nbconvert_exporter": "python",
   "pygments_lexer": "ipython3",
   "version": "3.12.3"
  }
 },
 "nbformat": 4,
 "nbformat_minor": 5
}
