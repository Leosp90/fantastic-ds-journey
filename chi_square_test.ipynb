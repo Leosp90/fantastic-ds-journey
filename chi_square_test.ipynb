{
 "cells": [
  {
   "cell_type": "code",
   "execution_count": 1,
   "id": "61aa4782-ca3e-4d30-a622-fad5d4e02c85",
   "metadata": {},
   "outputs": [],
   "source": [
    "import pandas as pd\n",
    "import scipy.stats as stats"
   ]
  },
  {
   "cell_type": "code",
   "execution_count": 3,
   "id": "b434d667-888e-4c54-b239-ece1d41561ff",
   "metadata": {},
   "outputs": [],
   "source": [
    "data = {'Category1': ['A', 'B', 'A', 'B', 'A', 'C', 'B'],\n",
    "        'Category2': ['X', 'Y', 'X', 'Y', 'X', 'Z', 'Z'],\n",
    "        'Category3': ['P', 'Q', 'Q', 'P', 'P', 'Q', 'P']}"
   ]
  },
  {
   "cell_type": "code",
   "execution_count": 9,
   "id": "00f2d9ea-184c-4457-b84a-722def419259",
   "metadata": {},
   "outputs": [
    {
     "data": {
      "text/html": [
       "<div>\n",
       "<style scoped>\n",
       "    .dataframe tbody tr th:only-of-type {\n",
       "        vertical-align: middle;\n",
       "    }\n",
       "\n",
       "    .dataframe tbody tr th {\n",
       "        vertical-align: top;\n",
       "    }\n",
       "\n",
       "    .dataframe thead th {\n",
       "        text-align: right;\n",
       "    }\n",
       "</style>\n",
       "<table border=\"1\" class=\"dataframe\">\n",
       "  <thead>\n",
       "    <tr style=\"text-align: right;\">\n",
       "      <th></th>\n",
       "      <th>Category1</th>\n",
       "      <th>Category2</th>\n",
       "      <th>Category3</th>\n",
       "    </tr>\n",
       "  </thead>\n",
       "  <tbody>\n",
       "    <tr>\n",
       "      <th>0</th>\n",
       "      <td>A</td>\n",
       "      <td>X</td>\n",
       "      <td>P</td>\n",
       "    </tr>\n",
       "    <tr>\n",
       "      <th>1</th>\n",
       "      <td>B</td>\n",
       "      <td>Y</td>\n",
       "      <td>Q</td>\n",
       "    </tr>\n",
       "    <tr>\n",
       "      <th>2</th>\n",
       "      <td>A</td>\n",
       "      <td>X</td>\n",
       "      <td>Q</td>\n",
       "    </tr>\n",
       "    <tr>\n",
       "      <th>3</th>\n",
       "      <td>B</td>\n",
       "      <td>Y</td>\n",
       "      <td>P</td>\n",
       "    </tr>\n",
       "    <tr>\n",
       "      <th>4</th>\n",
       "      <td>A</td>\n",
       "      <td>X</td>\n",
       "      <td>P</td>\n",
       "    </tr>\n",
       "    <tr>\n",
       "      <th>5</th>\n",
       "      <td>C</td>\n",
       "      <td>Z</td>\n",
       "      <td>Q</td>\n",
       "    </tr>\n",
       "    <tr>\n",
       "      <th>6</th>\n",
       "      <td>B</td>\n",
       "      <td>Z</td>\n",
       "      <td>P</td>\n",
       "    </tr>\n",
       "  </tbody>\n",
       "</table>\n",
       "</div>"
      ],
      "text/plain": [
       "  Category1 Category2 Category3\n",
       "0         A         X         P\n",
       "1         B         Y         Q\n",
       "2         A         X         Q\n",
       "3         B         Y         P\n",
       "4         A         X         P\n",
       "5         C         Z         Q\n",
       "6         B         Z         P"
      ]
     },
     "execution_count": 9,
     "metadata": {},
     "output_type": "execute_result"
    }
   ],
   "source": [
    "df = pd.DataFrame(data)\n",
    "df"
   ]
  },
  {
   "cell_type": "code",
   "execution_count": 11,
   "id": "9cb5e3b3-7ac7-4ee6-817f-be5fa380430e",
   "metadata": {},
   "outputs": [
    {
     "data": {
      "text/html": [
       "<div>\n",
       "<style scoped>\n",
       "    .dataframe tbody tr th:only-of-type {\n",
       "        vertical-align: middle;\n",
       "    }\n",
       "\n",
       "    .dataframe tbody tr th {\n",
       "        vertical-align: top;\n",
       "    }\n",
       "\n",
       "    .dataframe thead th {\n",
       "        text-align: right;\n",
       "    }\n",
       "</style>\n",
       "<table border=\"1\" class=\"dataframe\">\n",
       "  <thead>\n",
       "    <tr style=\"text-align: right;\">\n",
       "      <th>Category2</th>\n",
       "      <th>X</th>\n",
       "      <th>Y</th>\n",
       "      <th>Z</th>\n",
       "    </tr>\n",
       "    <tr>\n",
       "      <th>Category1</th>\n",
       "      <th></th>\n",
       "      <th></th>\n",
       "      <th></th>\n",
       "    </tr>\n",
       "  </thead>\n",
       "  <tbody>\n",
       "    <tr>\n",
       "      <th>A</th>\n",
       "      <td>3</td>\n",
       "      <td>0</td>\n",
       "      <td>0</td>\n",
       "    </tr>\n",
       "    <tr>\n",
       "      <th>B</th>\n",
       "      <td>0</td>\n",
       "      <td>2</td>\n",
       "      <td>1</td>\n",
       "    </tr>\n",
       "    <tr>\n",
       "      <th>C</th>\n",
       "      <td>0</td>\n",
       "      <td>0</td>\n",
       "      <td>1</td>\n",
       "    </tr>\n",
       "  </tbody>\n",
       "</table>\n",
       "</div>"
      ],
      "text/plain": [
       "Category2  X  Y  Z\n",
       "Category1         \n",
       "A          3  0  0\n",
       "B          0  2  1\n",
       "C          0  0  1"
      ]
     },
     "execution_count": 11,
     "metadata": {},
     "output_type": "execute_result"
    }
   ],
   "source": [
    "contingency_table = pd.crosstab(df['Category1'], df['Category2'])\n",
    "contingency_table"
   ]
  },
  {
   "cell_type": "code",
   "execution_count": 13,
   "id": "4ab39c82-6ec6-473e-936b-d10e317b07f8",
   "metadata": {},
   "outputs": [
    {
     "data": {
      "text/plain": [
       "Chi2ContingencyResult(statistic=9.333333333333332, pvalue=0.053286854458472886, dof=4, expected_freq=array([[1.28571429, 0.85714286, 0.85714286],\n",
       "       [1.28571429, 0.85714286, 0.85714286],\n",
       "       [0.42857143, 0.28571429, 0.28571429]]))"
      ]
     },
     "execution_count": 13,
     "metadata": {},
     "output_type": "execute_result"
    }
   ],
   "source": [
    "stats.chi2_contingency(contingency_table)"
   ]
  },
  {
   "cell_type": "code",
   "execution_count": 25,
   "id": "de510bfb-f8be-4fb4-82c1-2ef195e4ec91",
   "metadata": {},
   "outputs": [],
   "source": [
    "def chi_square_test(df):\n",
    "    cols = df.columns\n",
    "    results = {}\n",
    "    # Iterate over each pair of columns\n",
    "    for i in range(len(cols)):\n",
    "        for j in range(i + 1, len(cols)):\n",
    "            # Create a contingency table\n",
    "            contingency_table = pd.crosstab(df[cols[i]], df[cols[j]])\n",
    "            \n",
    "            # Perform Chi-Square test\n",
    "            chi2, p, dof, expected = stats.chi2_contingency(contingency_table)\n",
    "\n",
    "            # Save results\n",
    "            results[f\"{cols[i]} vs {cols[j]}\"] = {\"p_value\": p}\n",
    "\n",
    "    return results"
   ]
  },
  {
   "cell_type": "code",
   "execution_count": 29,
   "id": "b0670c1a-2b44-458b-b503-9a9dd1d37595",
   "metadata": {},
   "outputs": [],
   "source": [
    "result = chi_square_test(df)"
   ]
  },
  {
   "cell_type": "code",
   "execution_count": 37,
   "id": "85a02b9c-0c7e-4282-aef0-0fecefb1796a",
   "metadata": {},
   "outputs": [
    {
     "name": "stdout",
     "output_type": "stream",
     "text": [
      "Category1 vs Category2\n",
      "dict_values([0.053286854458472886])\n",
      "Category1 vs Category3\n",
      "dict_values([0.4594258240359268])\n",
      "Category2 vs Category3\n",
      "dict_values([0.907354349427929])\n"
     ]
    }
   ],
   "source": [
    "for pair, value in result.items():\n",
    "    print(pair)\n",
    "    print(value.values())"
   ]
  },
  {
   "cell_type": "code",
   "execution_count": null,
   "id": "c66c61a2-2ef9-4a6a-9832-2b87a7c6d168",
   "metadata": {},
   "outputs": [],
   "source": []
  }
 ],
 "metadata": {
  "kernelspec": {
   "display_name": "Python 3 (ipykernel)",
   "language": "python",
   "name": "python3"
  },
  "language_info": {
   "codemirror_mode": {
    "name": "ipython",
    "version": 3
   },
   "file_extension": ".py",
   "mimetype": "text/x-python",
   "name": "python",
   "nbconvert_exporter": "python",
   "pygments_lexer": "ipython3",
   "version": "3.12.3"
  }
 },
 "nbformat": 4,
 "nbformat_minor": 5
}
