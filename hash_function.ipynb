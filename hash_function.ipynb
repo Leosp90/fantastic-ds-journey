{
 "cells": [
  {
   "cell_type": "code",
   "execution_count": 1,
   "id": "3142f853-ace6-4be3-a786-721548519209",
   "metadata": {},
   "outputs": [],
   "source": [
    "# hashing function"
   ]
  },
  {
   "cell_type": "code",
   "execution_count": 110,
   "id": "5c6a549c-48a6-47d6-a6c8-e49d287d73ef",
   "metadata": {},
   "outputs": [],
   "source": [
    "import hashlib"
   ]
  },
  {
   "cell_type": "code",
   "execution_count": 112,
   "id": "d36dd868-56d2-4499-911e-3d2c8b8f8133",
   "metadata": {},
   "outputs": [],
   "source": [
    "def assign_group (user_id):\n",
    "    hash_value = int(hashlib.sha256(user_id.encode()).hexdigest(), 16)\n",
    "    if hash_value % 2 == 0:\n",
    "        return 'A'\n",
    "    else:\n",
    "        return 'B'\n",
    "    print(hash_value)\n",
    "        "
   ]
  },
  {
   "cell_type": "code",
   "execution_count": 114,
   "id": "77cab93b-d650-4bce-b77f-0fe61b45987a",
   "metadata": {},
   "outputs": [],
   "source": [
    "user_id = 'vW9Bnr517MOXoSw8UL6LUJB3NAt2'"
   ]
  },
  {
   "cell_type": "code",
   "execution_count": 116,
   "id": "4237e1d0-75a5-4539-a4ed-3f4e55a24ddb",
   "metadata": {},
   "outputs": [
    {
     "data": {
      "text/plain": [
       "'A'"
      ]
     },
     "execution_count": 116,
     "metadata": {},
     "output_type": "execute_result"
    }
   ],
   "source": [
    "group  = assign_group (user_id)\n",
    "group"
   ]
  },
  {
   "cell_type": "code",
   "execution_count": 19,
   "id": "e1a45db1-0292-43a2-98a8-f518c71ddb69",
   "metadata": {},
   "outputs": [
    {
     "name": "stdout",
     "output_type": "stream",
     "text": [
      "\n",
      "The user vW9Bnr517MOXoSw8UL6LUJB3NAt2 is assigned to group A.\n"
     ]
    }
   ],
   "source": [
    "print()\n",
    "print(f'The user {user_id} is assigned to group {group}.')"
   ]
  },
  {
   "cell_type": "code",
   "execution_count": 40,
   "id": "514bdc18-cfd9-4b62-a62a-a787dfcf5c41",
   "metadata": {},
   "outputs": [
    {
     "data": {
      "text/plain": [
       "3185969825862210092167588725046094564600510333085715267235931668250336170788"
      ]
     },
     "execution_count": 40,
     "metadata": {},
     "output_type": "execute_result"
    }
   ],
   "source": [
    "user_id.encode()\n",
    "hashlib.sha256(user_id.encode())\n",
    "hashlib.sha256(user_id.encode()).hexdigest()\n",
    "int(hashlib.sha256(user_id.encode()).hexdigest(), 16)"
   ]
  },
  {
   "cell_type": "code",
   "execution_count": 3,
   "id": "b095e32e-e124-4c58-92c2-a6910f61cc4a",
   "metadata": {},
   "outputs": [
    {
     "data": {
      "text/html": [
       "<div>\n",
       "<style scoped>\n",
       "    .dataframe tbody tr th:only-of-type {\n",
       "        vertical-align: middle;\n",
       "    }\n",
       "\n",
       "    .dataframe tbody tr th {\n",
       "        vertical-align: top;\n",
       "    }\n",
       "\n",
       "    .dataframe thead th {\n",
       "        text-align: right;\n",
       "    }\n",
       "</style>\n",
       "<table border=\"1\" class=\"dataframe\">\n",
       "  <thead>\n",
       "    <tr style=\"text-align: right;\">\n",
       "      <th></th>\n",
       "      <th>39gXixpzLnecNUcxz5zQTPOVfU02</th>\n",
       "    </tr>\n",
       "  </thead>\n",
       "  <tbody>\n",
       "    <tr>\n",
       "      <th>0</th>\n",
       "      <td>Eb6zN9yfwjMIhdPpILimyCq4o192</td>\n",
       "    </tr>\n",
       "    <tr>\n",
       "      <th>1</th>\n",
       "      <td>xRkv9tY4RkgVSd9buIPT7WyON7x2</td>\n",
       "    </tr>\n",
       "    <tr>\n",
       "      <th>2</th>\n",
       "      <td>iE0UsF8OE9OLyXhC4MBB5pbQKIw1</td>\n",
       "    </tr>\n",
       "    <tr>\n",
       "      <th>3</th>\n",
       "      <td>cDVKJtqlwQdvGUzwakegADhjD5t2</td>\n",
       "    </tr>\n",
       "    <tr>\n",
       "      <th>4</th>\n",
       "      <td>x8YyZmWjdoUtE4AlShFvCfsysAz1</td>\n",
       "    </tr>\n",
       "    <tr>\n",
       "      <th>...</th>\n",
       "      <td>...</td>\n",
       "    </tr>\n",
       "    <tr>\n",
       "      <th>194</th>\n",
       "      <td>6NXdSuP2q9eSkKudWSXrYIu7MDi1</td>\n",
       "    </tr>\n",
       "    <tr>\n",
       "      <th>195</th>\n",
       "      <td>MC9NNstwymSPojH5iKuwQqGPdVl1</td>\n",
       "    </tr>\n",
       "    <tr>\n",
       "      <th>196</th>\n",
       "      <td>dfEb8JSSXTT7qmhb5FMuSgzIRqv1</td>\n",
       "    </tr>\n",
       "    <tr>\n",
       "      <th>197</th>\n",
       "      <td>OCwti8j9EpTHIGX8IUTxAA3QzCE3</td>\n",
       "    </tr>\n",
       "    <tr>\n",
       "      <th>198</th>\n",
       "      <td>gaEG0ius20MOcyczdRAjGmmHC753</td>\n",
       "    </tr>\n",
       "  </tbody>\n",
       "</table>\n",
       "<p>199 rows × 1 columns</p>\n",
       "</div>"
      ],
      "text/plain": [
       "     39gXixpzLnecNUcxz5zQTPOVfU02\n",
       "0    Eb6zN9yfwjMIhdPpILimyCq4o192\n",
       "1    xRkv9tY4RkgVSd9buIPT7WyON7x2\n",
       "2    iE0UsF8OE9OLyXhC4MBB5pbQKIw1\n",
       "3    cDVKJtqlwQdvGUzwakegADhjD5t2\n",
       "4    x8YyZmWjdoUtE4AlShFvCfsysAz1\n",
       "..                            ...\n",
       "194  6NXdSuP2q9eSkKudWSXrYIu7MDi1\n",
       "195  MC9NNstwymSPojH5iKuwQqGPdVl1\n",
       "196  dfEb8JSSXTT7qmhb5FMuSgzIRqv1\n",
       "197  OCwti8j9EpTHIGX8IUTxAA3QzCE3\n",
       "198  gaEG0ius20MOcyczdRAjGmmHC753\n",
       "\n",
       "[199 rows x 1 columns]"
      ]
     },
     "execution_count": 3,
     "metadata": {},
     "output_type": "execute_result"
    }
   ],
   "source": [
    "import pandas as pd\n",
    "file_path = r\"C:\\\\Users\\\\Liu Shi Peng\\\\Documents\\\\user_id.txt\"\n",
    "df = pd.read_csv(file_path, encoding = 'utf-8') \n",
    "df"
   ]
  },
  {
   "cell_type": "code",
   "execution_count": 104,
   "id": "58f0d5ee-f660-47be-b467-7d70a4cf039a",
   "metadata": {},
   "outputs": [
    {
     "data": {
      "text/html": [
       "<div>\n",
       "<style scoped>\n",
       "    .dataframe tbody tr th:only-of-type {\n",
       "        vertical-align: middle;\n",
       "    }\n",
       "\n",
       "    .dataframe tbody tr th {\n",
       "        vertical-align: top;\n",
       "    }\n",
       "\n",
       "    .dataframe thead th {\n",
       "        text-align: right;\n",
       "    }\n",
       "</style>\n",
       "<table border=\"1\" class=\"dataframe\">\n",
       "  <thead>\n",
       "    <tr style=\"text-align: right;\">\n",
       "      <th></th>\n",
       "      <th>39gXixpzLnecNUcxz5zQTPOVfU02</th>\n",
       "    </tr>\n",
       "  </thead>\n",
       "  <tbody>\n",
       "    <tr>\n",
       "      <th>0</th>\n",
       "      <td>Eb6zN9yfwjMIhdPpILimyCq4o192</td>\n",
       "    </tr>\n",
       "    <tr>\n",
       "      <th>1</th>\n",
       "      <td>xRkv9tY4RkgVSd9buIPT7WyON7x2</td>\n",
       "    </tr>\n",
       "    <tr>\n",
       "      <th>2</th>\n",
       "      <td>iE0UsF8OE9OLyXhC4MBB5pbQKIw1</td>\n",
       "    </tr>\n",
       "    <tr>\n",
       "      <th>3</th>\n",
       "      <td>cDVKJtqlwQdvGUzwakegADhjD5t2</td>\n",
       "    </tr>\n",
       "    <tr>\n",
       "      <th>4</th>\n",
       "      <td>x8YyZmWjdoUtE4AlShFvCfsysAz1</td>\n",
       "    </tr>\n",
       "    <tr>\n",
       "      <th>...</th>\n",
       "      <td>...</td>\n",
       "    </tr>\n",
       "    <tr>\n",
       "      <th>194</th>\n",
       "      <td>6NXdSuP2q9eSkKudWSXrYIu7MDi1</td>\n",
       "    </tr>\n",
       "    <tr>\n",
       "      <th>195</th>\n",
       "      <td>MC9NNstwymSPojH5iKuwQqGPdVl1</td>\n",
       "    </tr>\n",
       "    <tr>\n",
       "      <th>196</th>\n",
       "      <td>dfEb8JSSXTT7qmhb5FMuSgzIRqv1</td>\n",
       "    </tr>\n",
       "    <tr>\n",
       "      <th>197</th>\n",
       "      <td>OCwti8j9EpTHIGX8IUTxAA3QzCE3</td>\n",
       "    </tr>\n",
       "    <tr>\n",
       "      <th>198</th>\n",
       "      <td>gaEG0ius20MOcyczdRAjGmmHC753</td>\n",
       "    </tr>\n",
       "  </tbody>\n",
       "</table>\n",
       "<p>199 rows × 1 columns</p>\n",
       "</div>"
      ],
      "text/plain": [
       "     39gXixpzLnecNUcxz5zQTPOVfU02\n",
       "0    Eb6zN9yfwjMIhdPpILimyCq4o192\n",
       "1    xRkv9tY4RkgVSd9buIPT7WyON7x2\n",
       "2    iE0UsF8OE9OLyXhC4MBB5pbQKIw1\n",
       "3    cDVKJtqlwQdvGUzwakegADhjD5t2\n",
       "4    x8YyZmWjdoUtE4AlShFvCfsysAz1\n",
       "..                            ...\n",
       "194  6NXdSuP2q9eSkKudWSXrYIu7MDi1\n",
       "195  MC9NNstwymSPojH5iKuwQqGPdVl1\n",
       "196  dfEb8JSSXTT7qmhb5FMuSgzIRqv1\n",
       "197  OCwti8j9EpTHIGX8IUTxAA3QzCE3\n",
       "198  gaEG0ius20MOcyczdRAjGmmHC753\n",
       "\n",
       "[199 rows x 1 columns]"
      ]
     },
     "execution_count": 104,
     "metadata": {},
     "output_type": "execute_result"
    }
   ],
   "source": [
    "df"
   ]
  },
  {
   "cell_type": "code",
   "execution_count": 108,
   "id": "fc0446ed-c7c4-4a19-b8b9-fde8ff033e90",
   "metadata": {},
   "outputs": [
    {
     "ename": "KeyError",
     "evalue": "0",
     "output_type": "error",
     "traceback": [
      "\u001b[1;31m---------------------------------------------------------------------------\u001b[0m",
      "\u001b[1;31mKeyError\u001b[0m                                  Traceback (most recent call last)",
      "File \u001b[1;32m~\\anaconda3\\Lib\\site-packages\\pandas\\core\\indexes\\base.py:3805\u001b[0m, in \u001b[0;36mIndex.get_loc\u001b[1;34m(self, key)\u001b[0m\n\u001b[0;32m   3804\u001b[0m \u001b[38;5;28;01mtry\u001b[39;00m:\n\u001b[1;32m-> 3805\u001b[0m     \u001b[38;5;28;01mreturn\u001b[39;00m \u001b[38;5;28mself\u001b[39m\u001b[38;5;241m.\u001b[39m_engine\u001b[38;5;241m.\u001b[39mget_loc(casted_key)\n\u001b[0;32m   3806\u001b[0m \u001b[38;5;28;01mexcept\u001b[39;00m \u001b[38;5;167;01mKeyError\u001b[39;00m \u001b[38;5;28;01mas\u001b[39;00m err:\n",
      "File \u001b[1;32mindex.pyx:167\u001b[0m, in \u001b[0;36mpandas._libs.index.IndexEngine.get_loc\u001b[1;34m()\u001b[0m\n",
      "File \u001b[1;32mindex.pyx:196\u001b[0m, in \u001b[0;36mpandas._libs.index.IndexEngine.get_loc\u001b[1;34m()\u001b[0m\n",
      "File \u001b[1;32mpandas\\\\_libs\\\\hashtable_class_helper.pxi:7081\u001b[0m, in \u001b[0;36mpandas._libs.hashtable.PyObjectHashTable.get_item\u001b[1;34m()\u001b[0m\n",
      "File \u001b[1;32mpandas\\\\_libs\\\\hashtable_class_helper.pxi:7089\u001b[0m, in \u001b[0;36mpandas._libs.hashtable.PyObjectHashTable.get_item\u001b[1;34m()\u001b[0m\n",
      "\u001b[1;31mKeyError\u001b[0m: 0",
      "\nThe above exception was the direct cause of the following exception:\n",
      "\u001b[1;31mKeyError\u001b[0m                                  Traceback (most recent call last)",
      "Cell \u001b[1;32mIn[108], line 1\u001b[0m\n\u001b[1;32m----> 1\u001b[0m df[\u001b[38;5;241m0\u001b[39m]\n",
      "File \u001b[1;32m~\\anaconda3\\Lib\\site-packages\\pandas\\core\\frame.py:4102\u001b[0m, in \u001b[0;36mDataFrame.__getitem__\u001b[1;34m(self, key)\u001b[0m\n\u001b[0;32m   4100\u001b[0m \u001b[38;5;28;01mif\u001b[39;00m \u001b[38;5;28mself\u001b[39m\u001b[38;5;241m.\u001b[39mcolumns\u001b[38;5;241m.\u001b[39mnlevels \u001b[38;5;241m>\u001b[39m \u001b[38;5;241m1\u001b[39m:\n\u001b[0;32m   4101\u001b[0m     \u001b[38;5;28;01mreturn\u001b[39;00m \u001b[38;5;28mself\u001b[39m\u001b[38;5;241m.\u001b[39m_getitem_multilevel(key)\n\u001b[1;32m-> 4102\u001b[0m indexer \u001b[38;5;241m=\u001b[39m \u001b[38;5;28mself\u001b[39m\u001b[38;5;241m.\u001b[39mcolumns\u001b[38;5;241m.\u001b[39mget_loc(key)\n\u001b[0;32m   4103\u001b[0m \u001b[38;5;28;01mif\u001b[39;00m is_integer(indexer):\n\u001b[0;32m   4104\u001b[0m     indexer \u001b[38;5;241m=\u001b[39m [indexer]\n",
      "File \u001b[1;32m~\\anaconda3\\Lib\\site-packages\\pandas\\core\\indexes\\base.py:3812\u001b[0m, in \u001b[0;36mIndex.get_loc\u001b[1;34m(self, key)\u001b[0m\n\u001b[0;32m   3807\u001b[0m     \u001b[38;5;28;01mif\u001b[39;00m \u001b[38;5;28misinstance\u001b[39m(casted_key, \u001b[38;5;28mslice\u001b[39m) \u001b[38;5;129;01mor\u001b[39;00m (\n\u001b[0;32m   3808\u001b[0m         \u001b[38;5;28misinstance\u001b[39m(casted_key, abc\u001b[38;5;241m.\u001b[39mIterable)\n\u001b[0;32m   3809\u001b[0m         \u001b[38;5;129;01mand\u001b[39;00m \u001b[38;5;28many\u001b[39m(\u001b[38;5;28misinstance\u001b[39m(x, \u001b[38;5;28mslice\u001b[39m) \u001b[38;5;28;01mfor\u001b[39;00m x \u001b[38;5;129;01min\u001b[39;00m casted_key)\n\u001b[0;32m   3810\u001b[0m     ):\n\u001b[0;32m   3811\u001b[0m         \u001b[38;5;28;01mraise\u001b[39;00m InvalidIndexError(key)\n\u001b[1;32m-> 3812\u001b[0m     \u001b[38;5;28;01mraise\u001b[39;00m \u001b[38;5;167;01mKeyError\u001b[39;00m(key) \u001b[38;5;28;01mfrom\u001b[39;00m \u001b[38;5;21;01merr\u001b[39;00m\n\u001b[0;32m   3813\u001b[0m \u001b[38;5;28;01mexcept\u001b[39;00m \u001b[38;5;167;01mTypeError\u001b[39;00m:\n\u001b[0;32m   3814\u001b[0m     \u001b[38;5;66;03m# If we have a listlike key, _check_indexing_error will raise\u001b[39;00m\n\u001b[0;32m   3815\u001b[0m     \u001b[38;5;66;03m#  InvalidIndexError. Otherwise we fall through and re-raise\u001b[39;00m\n\u001b[0;32m   3816\u001b[0m     \u001b[38;5;66;03m#  the TypeError.\u001b[39;00m\n\u001b[0;32m   3817\u001b[0m     \u001b[38;5;28mself\u001b[39m\u001b[38;5;241m.\u001b[39m_check_indexing_error(key)\n",
      "\u001b[1;31mKeyError\u001b[0m: 0"
     ]
    }
   ],
   "source": [
    "df[0]"
   ]
  },
  {
   "cell_type": "code",
   "execution_count": null,
   "id": "aaaaccd2-b833-448c-a932-3e8e7e509996",
   "metadata": {},
   "outputs": [],
   "source": []
  }
 ],
 "metadata": {
  "kernelspec": {
   "display_name": "Python 3 (ipykernel)",
   "language": "python",
   "name": "python3"
  },
  "language_info": {
   "codemirror_mode": {
    "name": "ipython",
    "version": 3
   },
   "file_extension": ".py",
   "mimetype": "text/x-python",
   "name": "python",
   "nbconvert_exporter": "python",
   "pygments_lexer": "ipython3",
   "version": "3.12.3"
  }
 },
 "nbformat": 4,
 "nbformat_minor": 5
}
